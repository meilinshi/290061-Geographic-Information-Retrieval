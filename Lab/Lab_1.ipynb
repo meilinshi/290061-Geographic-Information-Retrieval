{
 "cells": [
  {
   "cell_type": "markdown",
   "id": "5ae3df45",
   "metadata": {
    "id": "5ae3df45"
   },
   "source": [
    "# Lab 1 - Installation\n",
    "\n",
    "Th. 03.10.2024 15:00-17:00\n",
    "***"
   ]
  },
  {
   "cell_type": "markdown",
   "id": "178807b9",
   "metadata": {
    "id": "178807b9"
   },
   "source": [
    "## Instructions for installing Jupyter Notebook with Anaconda\n",
    "\n",
    "### **STEP 1: Download Anaconda**\n",
    "\n",
    "__[Download the Anaconda installer based on your operating system: ](https://www.anaconda.com/)__\n",
    "\n",
    "- Windows\n",
    "- Mac OS\n",
    "- Linux\n",
    "\n",
    "![installer](../figs/lab1_figs/installer.png)"
   ]
  },
  {
   "cell_type": "markdown",
   "id": "7c2bea1d",
   "metadata": {
    "id": "7c2bea1d"
   },
   "source": [
    "### **STEP 2: Install Anaconda**\n",
    "\n",
    "Select the default options when prompted during the installation.\n",
    "\n",
    "![install_complete](../figs/lab1_figs/install_complete.png)"
   ]
  },
  {
   "cell_type": "markdown",
   "id": "82fc9691",
   "metadata": {
    "id": "82fc9691"
   },
   "source": [
    "### **STEP 3: Create a new conda environment**\n",
    "\n",
    "It’s recommended to create a separate conda environment for this class to **avoid potential conflicts between packages**.\n",
    "\n",
    "#### 1. Open Anaconda Prompt\n",
    "\n",
    "![prompt](../figs/lab1_figs/prompt.png)"
   ]
  },
  {
   "cell_type": "markdown",
   "id": "2eeaae12",
   "metadata": {
    "id": "2eeaae12"
   },
   "source": [
    "#### 2. Type in Command Line\n",
    "\n",
    "- `conda create -n gir ` *#you can replace gir with your desired environment name*\n",
    "- `conda activate gir`  *#activate the newly created environment*\n",
    "- `conda config --env --add channels conda-forge`\n",
    "- `conda config --env --set channel_priority strict`\n",
    "- `conda install jupyter notebook`  *#install jupyter notebook*\n",
    "- `conda install pandas` *# the library we will use today, same for other libraries*\n",
    "- `python -m ipykernel install --name gir`\n",
    "- `jupyter notebook` *#launch jupyter notebook*\n",
    "\n",
    "![cl1](../figs/lab1_figs/cl1.png)\n",
    "![conda](../figs/lab1_figs/conda_install.png)"
   ]
  },
  {
   "cell_type": "markdown",
   "id": "c48f261e",
   "metadata": {
    "id": "c48f261e"
   },
   "source": [
    "### **STEP 4: Getting started with Jupyter Notebook**\n",
    "\n",
    "To create a new notebook, click on the “New” button in the top right corner of the Jupyter Notebook interface and select *Python 3* from the drop-down menu.\n",
    "\n",
    "![jupyter](../figs/lab1_figs/jupyter.png)\n",
    "![notebook](../figs/lab1_figs/untitled.png)"
   ]
  },
  {
   "cell_type": "markdown",
   "id": "b9ceb2f1",
   "metadata": {
    "id": "b9ceb2f1"
   },
   "source": [
    "\n",
    "## Try the following code blocks:"
   ]
  },
  {
   "cell_type": "code",
   "execution_count": null,
   "id": "18e83bfb",
   "metadata": {
    "id": "18e83bfb",
    "outputId": "d7809a64-6b87-4f14-a5b4-936449d16cd7"
   },
   "outputs": [
    {
     "name": "stdout",
     "output_type": "stream",
     "text": [
      "Hello World!\n"
     ]
    }
   ],
   "source": [
    "print('Hello World!')"
   ]
  },
  {
   "cell_type": "code",
   "execution_count": null,
   "id": "a5fd07d0",
   "metadata": {
    "id": "a5fd07d0",
    "outputId": "c16b3983-190f-440e-a23b-b5d6e16f8cfd"
   },
   "outputs": [
    {
     "name": "stdout",
     "output_type": "stream",
     "text": [
      "Help on built-in function print in module builtins:\n",
      "\n",
      "print(...)\n",
      "    print(value, ..., sep=' ', end='\\n', file=sys.stdout, flush=False)\n",
      "    \n",
      "    Prints the values to a stream, or to sys.stdout by default.\n",
      "    Optional keyword arguments:\n",
      "    file:  a file-like object (stream); defaults to the current sys.stdout.\n",
      "    sep:   string inserted between values, default a space.\n",
      "    end:   string appended after the last value, default a newline.\n",
      "    flush: whether to forcibly flush the stream.\n",
      "\n"
     ]
    }
   ],
   "source": [
    "help(print)"
   ]
  },
  {
   "cell_type": "markdown",
   "id": "6695e5d6",
   "metadata": {
    "id": "6695e5d6"
   },
   "source": [
    "By convention, we import all libraries at the very top of the notebook. There are also a set of standard aliases that are used to shorten the library names. __[Pandas](https://pandas.pydata.org/)__ is one of the most widely used Python libraries in data science.\n",
    "\n",
    "Some commonly used data wrangling operations in Pandas ([here](https://pandas.pydata.org/docs/reference/api/pandas.DataFrame.html) for more information):"
   ]
  },
  {
   "cell_type": "markdown",
   "id": "d0077870",
   "metadata": {
    "id": "d0077870"
   },
   "source": [
    "### Creating DataFrames\n",
    "\n",
    "DataFrame: a two-dimensional data structure that holds data like a two-dimension array or a table with rows and columns."
   ]
  },
  {
   "cell_type": "code",
   "execution_count": null,
   "id": "a40bd64d",
   "metadata": {
    "id": "a40bd64d",
    "outputId": "6273420b-f2c1-466d-9418-7bdaf35405c1"
   },
   "outputs": [
    {
     "data": {
      "text/html": [
       "<div>\n",
       "<style scoped>\n",
       "    .dataframe tbody tr th:only-of-type {\n",
       "        vertical-align: middle;\n",
       "    }\n",
       "\n",
       "    .dataframe tbody tr th {\n",
       "        vertical-align: top;\n",
       "    }\n",
       "\n",
       "    .dataframe thead th {\n",
       "        text-align: right;\n",
       "    }\n",
       "</style>\n",
       "<table border=\"1\" class=\"dataframe\">\n",
       "  <thead>\n",
       "    <tr style=\"text-align: right;\">\n",
       "      <th></th>\n",
       "      <th>fruit</th>\n",
       "      <th>amount</th>\n",
       "      <th>color</th>\n",
       "    </tr>\n",
       "  </thead>\n",
       "  <tbody>\n",
       "    <tr>\n",
       "      <th>0</th>\n",
       "      <td>apple</td>\n",
       "      <td>1</td>\n",
       "      <td>red</td>\n",
       "    </tr>\n",
       "    <tr>\n",
       "      <th>1</th>\n",
       "      <td>orange</td>\n",
       "      <td>3</td>\n",
       "      <td>orange</td>\n",
       "    </tr>\n",
       "    <tr>\n",
       "      <th>2</th>\n",
       "      <td>banana</td>\n",
       "      <td>5</td>\n",
       "      <td>yellow</td>\n",
       "    </tr>\n",
       "    <tr>\n",
       "      <th>3</th>\n",
       "      <td>mango</td>\n",
       "      <td>2</td>\n",
       "      <td>yellow</td>\n",
       "    </tr>\n",
       "  </tbody>\n",
       "</table>\n",
       "</div>"
      ],
      "text/plain": [
       "    fruit  amount   color\n",
       "0   apple       1     red\n",
       "1  orange       3  orange\n",
       "2  banana       5  yellow\n",
       "3   mango       2  yellow"
      ]
     },
     "execution_count": 3,
     "metadata": {},
     "output_type": "execute_result"
    }
   ],
   "source": [
    "import pandas as pd\n",
    "\n",
    "data = {\n",
    "    'fruit': ['apple', 'orange', 'banana', 'mango'],\n",
    "    'amount': [1, 3, 5, 2],\n",
    "    'color':['red','orange','yellow','yellow']\n",
    "}\n",
    "\n",
    "purchases = pd.DataFrame(data)\n",
    "purchases"
   ]
  },
  {
   "cell_type": "markdown",
   "id": "e1f9a26d",
   "metadata": {
    "id": "e1f9a26d"
   },
   "source": [
    "### Selecting rows and columns\n",
    "- Selection using label/index: `.loc`\n",
    "- Selection using integer location: `.iloc`"
   ]
  },
  {
   "cell_type": "code",
   "execution_count": null,
   "id": "271c1420",
   "metadata": {
    "id": "271c1420",
    "outputId": "28be9923-44c3-45ef-a23d-4ec22456cf34"
   },
   "outputs": [
    {
     "data": {
      "text/html": [
       "<div>\n",
       "<style scoped>\n",
       "    .dataframe tbody tr th:only-of-type {\n",
       "        vertical-align: middle;\n",
       "    }\n",
       "\n",
       "    .dataframe tbody tr th {\n",
       "        vertical-align: top;\n",
       "    }\n",
       "\n",
       "    .dataframe thead th {\n",
       "        text-align: right;\n",
       "    }\n",
       "</style>\n",
       "<table border=\"1\" class=\"dataframe\">\n",
       "  <thead>\n",
       "    <tr style=\"text-align: right;\">\n",
       "      <th></th>\n",
       "      <th>fruit</th>\n",
       "    </tr>\n",
       "  </thead>\n",
       "  <tbody>\n",
       "    <tr>\n",
       "      <th>0</th>\n",
       "      <td>apple</td>\n",
       "    </tr>\n",
       "    <tr>\n",
       "      <th>1</th>\n",
       "      <td>orange</td>\n",
       "    </tr>\n",
       "    <tr>\n",
       "      <th>2</th>\n",
       "      <td>banana</td>\n",
       "    </tr>\n",
       "    <tr>\n",
       "      <th>3</th>\n",
       "      <td>mango</td>\n",
       "    </tr>\n",
       "  </tbody>\n",
       "</table>\n",
       "</div>"
      ],
      "text/plain": [
       "    fruit\n",
       "0   apple\n",
       "1  orange\n",
       "2  banana\n",
       "3   mango"
      ]
     },
     "execution_count": 4,
     "metadata": {},
     "output_type": "execute_result"
    }
   ],
   "source": [
    "# To select a column of a DataFrame by column label,\n",
    "# the safest and fastest way is to use the .loc method.\n",
    "# General usage looks like df.loc[rowname,colname].\n",
    "\n",
    "purchases.loc[:, ['fruit']] #the colon : here means \"everything\"\n",
    "\n",
    "# try also:\n",
    "# purchases.loc[[0],:]\n",
    "# purchases.loc[0:2, ['fruit']]"
   ]
  },
  {
   "cell_type": "code",
   "execution_count": null,
   "id": "2804007c",
   "metadata": {
    "id": "2804007c",
    "outputId": "a67edf07-d6e3-4040-85a8-a182ebee722e"
   },
   "outputs": [
    {
     "data": {
      "text/plain": [
       "'red'"
      ]
     },
     "execution_count": 5,
     "metadata": {},
     "output_type": "execute_result"
    }
   ],
   "source": [
    "# iloc[] lets you slice the dataframe by\n",
    "# row position and column position\n",
    "\n",
    "purchases.iloc[0, 2]"
   ]
  },
  {
   "cell_type": "markdown",
   "id": "10feab4e",
   "metadata": {
    "id": "10feab4e"
   },
   "source": [
    "### Filtering Data"
   ]
  },
  {
   "cell_type": "code",
   "execution_count": null,
   "id": "c37b0805",
   "metadata": {
    "id": "c37b0805",
    "outputId": "398b6694-bd9f-469d-9621-fc348a108b3a"
   },
   "outputs": [
    {
     "data": {
      "text/html": [
       "<div>\n",
       "<style scoped>\n",
       "    .dataframe tbody tr th:only-of-type {\n",
       "        vertical-align: middle;\n",
       "    }\n",
       "\n",
       "    .dataframe tbody tr th {\n",
       "        vertical-align: top;\n",
       "    }\n",
       "\n",
       "    .dataframe thead th {\n",
       "        text-align: right;\n",
       "    }\n",
       "</style>\n",
       "<table border=\"1\" class=\"dataframe\">\n",
       "  <thead>\n",
       "    <tr style=\"text-align: right;\">\n",
       "      <th></th>\n",
       "      <th>fruit</th>\n",
       "      <th>amount</th>\n",
       "      <th>color</th>\n",
       "    </tr>\n",
       "  </thead>\n",
       "  <tbody>\n",
       "    <tr>\n",
       "      <th>1</th>\n",
       "      <td>orange</td>\n",
       "      <td>3</td>\n",
       "      <td>orange</td>\n",
       "    </tr>\n",
       "    <tr>\n",
       "      <th>2</th>\n",
       "      <td>banana</td>\n",
       "      <td>5</td>\n",
       "      <td>yellow</td>\n",
       "    </tr>\n",
       "  </tbody>\n",
       "</table>\n",
       "</div>"
      ],
      "text/plain": [
       "    fruit  amount   color\n",
       "1  orange       3  orange\n",
       "2  banana       5  yellow"
      ]
     },
     "execution_count": 6,
     "metadata": {},
     "output_type": "execute_result"
    }
   ],
   "source": [
    "purchases[purchases['amount'] > 2]"
   ]
  },
  {
   "cell_type": "code",
   "execution_count": null,
   "id": "28181e55",
   "metadata": {
    "id": "28181e55",
    "outputId": "0e278be9-bea2-43f9-df2e-76122c815d55"
   },
   "outputs": [
    {
     "data": {
      "text/html": [
       "<div>\n",
       "<style scoped>\n",
       "    .dataframe tbody tr th:only-of-type {\n",
       "        vertical-align: middle;\n",
       "    }\n",
       "\n",
       "    .dataframe tbody tr th {\n",
       "        vertical-align: top;\n",
       "    }\n",
       "\n",
       "    .dataframe thead th {\n",
       "        text-align: right;\n",
       "    }\n",
       "</style>\n",
       "<table border=\"1\" class=\"dataframe\">\n",
       "  <thead>\n",
       "    <tr style=\"text-align: right;\">\n",
       "      <th></th>\n",
       "      <th>fruit</th>\n",
       "      <th>amount</th>\n",
       "      <th>color</th>\n",
       "    </tr>\n",
       "  </thead>\n",
       "  <tbody>\n",
       "    <tr>\n",
       "      <th>2</th>\n",
       "      <td>banana</td>\n",
       "      <td>5</td>\n",
       "      <td>yellow</td>\n",
       "    </tr>\n",
       "    <tr>\n",
       "      <th>3</th>\n",
       "      <td>mango</td>\n",
       "      <td>2</td>\n",
       "      <td>yellow</td>\n",
       "    </tr>\n",
       "  </tbody>\n",
       "</table>\n",
       "</div>"
      ],
      "text/plain": [
       "    fruit  amount   color\n",
       "2  banana       5  yellow\n",
       "3   mango       2  yellow"
      ]
     },
     "execution_count": 7,
     "metadata": {},
     "output_type": "execute_result"
    }
   ],
   "source": [
    "purchases[purchases['color'] == 'yellow']"
   ]
  },
  {
   "cell_type": "markdown",
   "id": "e0e121ce",
   "metadata": {
    "id": "e0e121ce"
   },
   "source": [
    "## Submission\n",
    "For the participation grade, create a DataFrame of your own and submit the .ipynb file"
   ]
  }
 ],
 "metadata": {
  "colab": {
   "provenance": []
  },
  "kernelspec": {
   "display_name": "Python 3 (ipykernel)",
   "language": "python",
   "name": "python3"
  },
  "language_info": {
   "codemirror_mode": {
    "name": "ipython",
    "version": 3
   },
   "file_extension": ".py",
   "mimetype": "text/x-python",
   "name": "python",
   "nbconvert_exporter": "python",
   "pygments_lexer": "ipython3",
   "version": "3.9.12"
  }
 },
 "nbformat": 4,
 "nbformat_minor": 5
}
