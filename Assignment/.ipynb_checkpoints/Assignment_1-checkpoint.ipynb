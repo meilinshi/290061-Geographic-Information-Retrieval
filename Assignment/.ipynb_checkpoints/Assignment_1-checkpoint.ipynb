{
 "cells": [
  {
   "cell_type": "markdown",
   "id": "b41ca3bf",
   "metadata": {
    "id": "b41ca3bf"
   },
   "source": [
    "# Assignment 1\n",
    "\n",
    "Due date: No later than 23:59 24/10/24\n",
    "\n",
    "Name:\n",
    "***"
   ]
  },
  {
   "cell_type": "markdown",
   "id": "b4c44130",
   "metadata": {
    "id": "b4c44130"
   },
   "source": [
    "## Part 1\n",
    "For the first part of the assignment, you will perform a simple workflow of spatial data manipulation.\n",
    "- Use any vector data we have downloaded in the previous lab sessions (or any other vector data you prefer). If you are using other data, the geometries can be represented by points, lines, polygons, etc.\n",
    "- Report the source where your data comes from, and describe what this data is about with one or two sentences.\n",
    "- Read the data as a GeoDataFrame, and query it with a specified criteria. Then, explain your search criteria with natural language.\n",
    "- Select a pair of geographic entities in your GeoDataFrame, and compute their great-circle distance using the Haversine formula. If entities are represented as points, you can directly use their coordinates. Otherwise, you might need to use their centroids.\n",
    "- Plot the GeoDataFrame with the <strong>plot()</strong> method. See [here]( https://geopandas.org/en/stable/docs/user_guide/mapping.html).\n",
    "- Choose a projected coordinate system, and transform your GeoDataFrame into this coordinate system. Report its identifier (e.g., EPSG:4326), and describe its suitable area of use and potential distortions. You can find your interested coordinate system from [EPSG.io](https://epsg.io/).\n",
    "\n"
   ]
  },
  {
   "cell_type": "markdown",
   "id": "bf3df70f",
   "metadata": {
    "id": "bf3df70f"
   },
   "source": [
    "### Part 2\n",
    "For the second part of the assignment, you will read through [technical documentations](https://shapely.readthedocs.io/en/stable/manual.html#geometric-objects) of shapely geometric objects.\n",
    "- For each shapely geometric object, list its class name and at least two real-world geographic features that it can represent.\n",
    "- When answering the question, you can skip the sections on Empty features, coordinate sequences, and Linear Referencing Methods."
   ]
  },
  {
   "cell_type": "markdown",
   "id": "975b49e3",
   "metadata": {
    "id": "975b49e3"
   },
   "source": [
    "## Some Markdown tutorials if needed:\n",
    "- https://www.datacamp.com/tutorial/markdown-in-jupyter-notebook\n",
    "- https://www.edlitera.com/en/blog/posts/jupyter-markdown-tutorial\n",
    "- https://jupyter-notebook.readthedocs.io/en/stable/examples/Notebook/Working%20With%20Markdown%20Cells.html"
   ]
  },
  {
   "cell_type": "markdown",
   "id": "dd04509f",
   "metadata": {
    "id": "dd04509f"
   },
   "source": [
    "## Submission\n",
    "\n",
    "The assignment includes two parts. Please submit a .zip file containing the data you used and this Jupyter Notebook."
   ]
  }
 ],
 "metadata": {
  "colab": {
   "provenance": []
  },
  "kernelspec": {
   "display_name": "Python 3 (ipykernel)",
   "language": "python",
   "name": "python3"
  },
  "language_info": {
   "codemirror_mode": {
    "name": "ipython",
    "version": 3
   },
   "file_extension": ".py",
   "mimetype": "text/x-python",
   "name": "python",
   "nbconvert_exporter": "python",
   "pygments_lexer": "ipython3",
   "version": "3.8.10"
  }
 },
 "nbformat": 4,
 "nbformat_minor": 5
}
