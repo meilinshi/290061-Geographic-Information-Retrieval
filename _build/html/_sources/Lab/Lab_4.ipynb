{
 "cells": [
  {
   "cell_type": "markdown",
   "id": "00532ba9-c0d4-4bfe-beea-a0559aa0c747",
   "metadata": {},
   "source": [
    "# Lab 4 - Geoparsing\n",
    "\n",
    "Th. 24.10.2024 15:00-17:00\n",
    "***"
   ]
  },
  {
   "cell_type": "markdown",
   "id": "69d25683-74cf-4fd1-bb5e-1395b0be39ab",
   "metadata": {},
   "source": [
    "## 1 - Installation\n",
    "\n",
    "The installation instructions below are attached if you would like to install new packages locally on your computers. These packages have already been installed on JupyterHub.\n",
    "\n",
    "### 1.1 - Wikipedia\n",
    "[Wikipedia](https://www.wikipedia.org) is a free online encyclopedia, created and edited by volunteers around the world and hosted by the [Wikimedia Foundation](https://wikimediafoundation.org). We can install a python package, also called [Wikipedia](https://github.com/goldsmith/Wikipedia), that can access and parse data from Wikipedia.\n",
    "\n",
    "\n",
    "Type the following command for installation:\n",
    "\n",
    "`conda install wikipedia`\n"
   ]
  },
  {
   "cell_type": "markdown",
   "id": "02f689ab-42f0-456a-bc28-a0437e8862c0",
   "metadata": {},
   "source": [
    "### 1.2 - spaCy\n",
    "Next we can install spaCy and [the small version of an English trained pipeline](https://spacy.io/models/en). You can find out the installation instructions from [here](https://spacy.io/usage).\n",
    "![spaCy](../figs/lab4_figs/spaCy.png)\n",
    "\n",
    "If `conda` installation does not work, try to use `pip` installation as follows.\n",
    "\n",
    "```\n",
    "pip install -U pip setuptools wheel\n",
    "pip install -U spacy\n",
    "python -m spacy download en_core_web_sm\n",
    "```"
   ]
  },
  {
   "cell_type": "markdown",
   "id": "987d0c3b-f8b3-4c54-8e6c-5ac78d98711b",
   "metadata": {},
   "source": [
    "Then, import <strong>wikipedia</strong> and <strong>spacy</strong> to check whether they have been successfully installed."
   ]
  },
  {
   "cell_type": "code",
   "execution_count": null,
   "id": "5104721f-95c0-4b6f-a200-508a6c76845c",
   "metadata": {},
   "outputs": [],
   "source": [
    "import wikipedia\n",
    "import spacy"
   ]
  },
  {
   "cell_type": "markdown",
   "id": "4c62964d-7998-4931-aa91-d41f43b54516",
   "metadata": {},
   "source": [
    "As the trained English pipeline is installed as a Python package, there are two ways to load it."
   ]
  },
  {
   "cell_type": "code",
   "execution_count": null,
   "id": "ba09137f-989d-4ec1-980b-2724d6d2d8f3",
   "metadata": {},
   "outputs": [],
   "source": [
    "nlp = spacy.load(\"en_core_web_sm\")"
   ]
  },
  {
   "cell_type": "markdown",
   "id": "8c50494d-8bbe-4887-99ff-b254648ab3e6",
   "metadata": {},
   "source": [
    "Or you can..."
   ]
  },
  {
   "cell_type": "code",
   "execution_count": null,
   "id": "842a3977-b51e-4666-968a-e24cdd718a2d",
   "metadata": {},
   "outputs": [],
   "source": [
    "import en_core_web_sm\n",
    "nlp = en_core_web_sm.load()"
   ]
  },
  {
   "cell_type": "markdown",
   "id": "f8e4bb6d-6346-4931-889f-b5fe753f1d88",
   "metadata": {},
   "source": [
    "## 2 - Getting to Know Athens on Wikipedia\n",
    "\n",
    "In this section we will first retrieve a Wikipedia article summary about Athens, Greece. Then, we will perform preprocessing (e.g., data cleaning) on the retrieve text. For instance, we can replace `\\n` (that indicates a new line) with an empty string. "
   ]
  },
  {
   "cell_type": "code",
   "execution_count": null,
   "id": "6d323cf4-bb07-4e03-a8dc-b7974b5cb51c",
   "metadata": {},
   "outputs": [],
   "source": [
    "summary = wikipedia.summary(\"Athens\")\n",
    "summary = summary.replace('\\n','') ## Feel free to comment this line of code to see the difference after data cleaning\n",
    "summary"
   ]
  },
  {
   "cell_type": "markdown",
   "id": "d0dfcdfc-6f71-4184-bf10-f164379ec3c6",
   "metadata": {},
   "source": [
    "## 3 - Geoparsing on the Athens summary\n",
    "\n",
    "### 3.1 - Named Entity Recognition (NER)\n",
    "Next, we will use the language model to perform named entity recognition. \n",
    "\n",
    "<em>A named entity is a “real-world object” that’s assigned a name – for example, a person, a country, a product or a book title. spaCy can recognize various types of named entities in a document, by asking the model for a prediction. Because models are statistical and strongly depend on the examples they were trained on, this doesn’t always work perfectly and might need some tuning later, depending on your use case. Named entities are available as the `ents` property of a `Doc`. </em> (See spaCy's [Named Entity Recognition](https://spacy.io/usage/linguistic-features#named-entities))"
   ]
  },
  {
   "cell_type": "code",
   "execution_count": null,
   "id": "f05dbf43-2afd-4a64-a4c4-11a67e0f250c",
   "metadata": {},
   "outputs": [],
   "source": [
    "doc = nlp(summary)\n",
    "\n",
    "ents = [(e.text, e.start_char, e.end_char, e.label_) for e in doc.ents] \n",
    "## start_char and end_char are the indices of the 'text' appearing in the document\n",
    "## label_ is the entity type of the 'text'\n",
    "## Here we use list comprehension (See https://www.w3schools.com/python/python_lists_comprehension.asp).\n",
    "\n",
    "print(ents)"
   ]
  },
  {
   "cell_type": "markdown",
   "id": "6627d863-4b16-421c-b9c7-943a8db49018",
   "metadata": {},
   "source": [
    "### 3.2 - Visualizing NER Results\n",
    "You can also use the built-in [displaCy visualizer](https://spacy.io/usage/visualizers#ent) to highlight the detected entities and their types in your Jupyter notebook."
   ]
  },
  {
   "cell_type": "code",
   "execution_count": null,
   "id": "0daa1e84-49a6-4a59-8b94-06a4cd8534eb",
   "metadata": {},
   "outputs": [],
   "source": [
    "from spacy import displacy\n",
    "displacy.render(doc, style=\"ent\")"
   ]
  },
  {
   "cell_type": "markdown",
   "id": "3579a228-c050-4b7e-8c81-5962709ac703",
   "metadata": {},
   "source": [
    "### 3.3 - Extracting Geographic Entities\n",
    "However, what do these entity labels mean? To answer this question, we can use `spacy.explain`, a built-in function to get descriptions about an entity type."
   ]
  },
  {
   "cell_type": "code",
   "execution_count": null,
   "id": "7a440ab8-38e9-42dc-b0f1-970ff67274cd",
   "metadata": {},
   "outputs": [],
   "source": [
    "## use set() to get a set from the list of retrieved entity types\n",
    "entity_type_set = set([ent[3] for ent in ents])\n",
    "## then tranform the set to a list again for further analysis\n",
    "entity_type_list = list(entity_type_set)\n",
    "[(entity_type, spacy.explain(entity_type)) for entity_type in entity_type_list]"
   ]
  },
  {
   "cell_type": "markdown",
   "id": "f863d1b8-7070-49fd-b4e2-440cb55072b5",
   "metadata": {},
   "source": [
    "Assume now we define entities with the type of 'GPE', 'LOC', 'ORG', or 'NORP', as geographic entities. Then, we can further extract them."
   ]
  },
  {
   "cell_type": "code",
   "execution_count": null,
   "id": "9d71820d-1fca-424e-9423-5c7350c819a0",
   "metadata": {},
   "outputs": [],
   "source": [
    "entity_type_list_selected = ['LOC','ORG','GPE','NORP']\n",
    "geo_ents = [ent for ent in ents if ent[3] in entity_type_list_selected]\n",
    "geo_ents"
   ]
  },
  {
   "cell_type": "markdown",
   "id": "c132f3f3-d2d0-4cc0-8a7d-a583e4177be4",
   "metadata": {},
   "source": [
    "### 3.4 - Geoparsing Performance Evaluation"
   ]
  },
  {
   "cell_type": "markdown",
   "id": "a163cb28-3f7e-4af4-9786-9ae0fc33a5bb",
   "metadata": {},
   "source": [
    "spaCy does a great job in geoparsing at first glance. However, there are a few entities that it mistook for geographic entities. For instance, 'BC' and 'the Classical Era' are not 'ORG'. Therefore, the rest of the model outputs are the true positives. We can then compute <strong>Precision</strong> based on the comparison between **the true positives we identified** and the model outputs."
   ]
  },
  {
   "cell_type": "code",
   "execution_count": null,
   "id": "59b0d148-c450-4df2-9bbc-2606fd298f1e",
   "metadata": {},
   "outputs": [],
   "source": [
    "precision = (len(geo_ents)-2)/len(geo_ents)\n",
    "precision"
   ]
  },
  {
   "cell_type": "markdown",
   "id": "6f543391-9aa7-44fc-a1d1-f6b555e0df7e",
   "metadata": {},
   "source": [
    "**Your turn**: Assuming now you are going to compute **Recall** and **F1 score** next, you will need to find out all correct place names identified by humans. Look at the retrieved Wikipedia article again. Find out these place names for the computation as follows."
   ]
  },
  {
   "cell_type": "code",
   "execution_count": null,
   "id": "b13cdcec-2c65-43d1-bd10-4a061c78c01c",
   "metadata": {},
   "outputs": [],
   "source": [
    "num = # Fill out the number of correct place names you identified\n",
    "recall = (len(geo_ents)-2)/(num)\n",
    "recall"
   ]
  },
  {
   "cell_type": "markdown",
   "id": "3a504cce-775c-4a39-bd3f-6b03c969d61c",
   "metadata": {},
   "source": [
    "After your compute your **Recall**, you can compute **F1 score** below."
   ]
  },
  {
   "cell_type": "code",
   "execution_count": null,
   "id": "61633d73-017d-4d68-8953-63a4cb1d2e8f",
   "metadata": {},
   "outputs": [],
   "source": [
    "f1 = 2/(1/recall+1/precision)\n",
    "f1"
   ]
  },
  {
   "cell_type": "markdown",
   "id": "ec4a57ba-335f-4458-8c2b-3de2a7d28e43",
   "metadata": {},
   "source": [
    "## 4 - Submission\n",
    "Try the code blocks above, retrieve a Wikipedia article summary about a different place of you interest, geoparse the text and do a simple evaluation. Lastly, submit the .ipynb file on Moodle.\n",
    "\n",
    "You are also encouraged to retrieve Wikipedia article summaries in a different language. For instance, you can run the following code to switch language to French:\n",
    "`wikipedia.set_lang(\"fr\")`\n",
    "\n",
    "If you select a different lanauge for text retrieval, you will also need to download a corresponding trained pipeline. For instance, install a French pipeline with the command:\n",
    "`python -m spacy download fr_core_news_sm`"
   ]
  },
  {
   "cell_type": "code",
   "execution_count": null,
   "id": "93e28fa4-72e2-4fc3-ab06-69f9485c5892",
   "metadata": {},
   "outputs": [],
   "source": []
  }
 ],
 "metadata": {
  "kernelspec": {
   "display_name": "Python 3 (ipykernel)",
   "language": "python",
   "name": "python3"
  },
  "language_info": {
   "codemirror_mode": {
    "name": "ipython",
    "version": 3
   },
   "file_extension": ".py",
   "mimetype": "text/x-python",
   "name": "python",
   "nbconvert_exporter": "python",
   "pygments_lexer": "ipython3",
   "version": "3.12.2"
  }
 },
 "nbformat": 4,
 "nbformat_minor": 5
}
