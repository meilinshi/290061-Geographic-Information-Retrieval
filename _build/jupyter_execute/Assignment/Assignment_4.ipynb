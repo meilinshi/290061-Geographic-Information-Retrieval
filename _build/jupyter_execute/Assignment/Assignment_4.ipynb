{
 "cells": [
  {
   "cell_type": "markdown",
   "id": "9a483b1d-b0e9-42ab-b0bf-176a86d7da07",
   "metadata": {},
   "source": [
    "# Assignment 4\n",
    "\n",
    "**Due date: 23:59 04/12/24**\n",
    "\n",
    "***"
   ]
  },
  {
   "cell_type": "markdown",
   "id": "47b7372e-a1ee-47f5-a626-6ea8f1361fe9",
   "metadata": {},
   "source": [
    "## Part 1 - Individual Final Project Idea (30 pts)\n",
    "- Please provide a data set you would like to work on for the final project, including the data source, and describe what information this data set includes. (10 pts)\n",
    "\n",
    "<br/>\n",
    "\n",
    "- Briefly describe your motivation and project idea, including the tasks you would like to perform on your data set, e.g., place name recognition, geocoding. (20 pts)\n",
    "\n",
    "<br/>\n"
   ]
  },
  {
   "cell_type": "markdown",
   "id": "ba29f3e4-15f6-4c22-9bd0-02e99c13923c",
   "metadata": {},
   "source": [
    "## Part 2 – Reading (20 pts)\n",
    "For the second part of the assignment, you will read the paper from Assignment 3 again: [An Empirical Study on the Names of Points of Interest and Their Changes with Geographic Distance](https://drops.dagstuhl.de/storage/00lipics/lipics-vol114-giscience2018/LIPIcs.GISCIENCE.2018.5/LIPIcs.GISCIENCE.2018.5.pdf).\n",
    "\n",
    "- Describe why the authors used word2vec in this work, and the advantages of the word2vec approach over the count-based vector approach. (10 pts)\n",
    "\n",
    "<br/>\n",
    "\n",
    "- Write down the dimensionality of word2vec embeddings generated in this work, and the name of the parameter that corresponds to dimensionality in the Word2Vec() function (used in our lab session). (5 pts)\n",
    "\n",
    "<br/>\n",
    "\n",
    "- Write down the similarity measure used for measuring the similarity between two embeddings in this work, and the range of similarity results (according to Figure 7). (5 pts)\n",
    "\n",
    "<br/>"
   ]
  }
 ],
 "metadata": {
  "kernelspec": {
   "display_name": "Python 3 (ipykernel)",
   "language": "python",
   "name": "python3"
  },
  "language_info": {
   "codemirror_mode": {
    "name": "ipython",
    "version": 3
   },
   "file_extension": ".py",
   "mimetype": "text/x-python",
   "name": "python",
   "nbconvert_exporter": "python",
   "pygments_lexer": "ipython3",
   "version": "3.12.2"
  }
 },
 "nbformat": 4,
 "nbformat_minor": 5
}