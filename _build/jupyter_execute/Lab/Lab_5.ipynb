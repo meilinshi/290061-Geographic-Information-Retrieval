{
 "cells": [
  {
   "cell_type": "markdown",
   "id": "00532ba9-c0d4-4bfe-beea-a0559aa0c747",
   "metadata": {
    "id": "00532ba9-c0d4-4bfe-beea-a0559aa0c747"
   },
   "source": [
    "# Lab 5 - Geocoding\n",
    "\n",
    "Th 31.10.2024 15:00-17:00\n",
    "***"
   ]
  },
  {
   "cell_type": "markdown",
   "id": "780edf8e",
   "metadata": {},
   "source": [
    "## 1 - Geopy\n",
    "\n",
    "[Geopy](https://geopy.readthedocs.io/en/stable/) is a Python library that provides a simple interface for several geocoding web services. \n",
    "\n",
    "\n",
    "![geopy](../figs/lab5_figs/geopy.png)"
   ]
  },
  {
   "cell_type": "markdown",
   "id": "ebff1f55",
   "metadata": {},
   "source": [
    "### 1.1 - Choose a Geocoding Service\n",
    "Geopy supports various geocoding services, such as Google Maps, OpenStreetMap, and ArcGIS. Each service may have different usage policies and limitations. For example, some may require **API keys**. Geopy implemented the class for each of these services, and you can easily switch from one service’s API to another."
   ]
  },
  {
   "cell_type": "markdown",
   "id": "12effd0f",
   "metadata": {},
   "source": [
    "### 1.2 - Import and Choose a Geocoder:\n",
    "Import the geopy library and choose a geocoding service. For example, if you want to use the Nominatim geocoding service (which is based on **OpenStreetMap** data), you can do the following:<br>\n",
    "`from geopy.geocoders import Nominatim` <br>\n",
    "`geolocator = Nominatim(user_agent=\"your_email\")`\n",
    "\n",
    "If you want to use the **Google Maps** geocoding service, you can do the following:<br>\n",
    "`GM_API_KEY = 'your_api_key'`<br>\n",
    "`from geopy.geocoders import GoogleV3` <br>\n",
    "`geolocator = GoogleV3(api_key=GM_API_KEY)`\n",
    "\n",
    "If you want to use the **ArcGIS** geocoding service, you can do the following:<br>\n",
    "`from geopy.geocoders import ArcGIS` <br>\n",
    "`geolocator = ArcGIS()`"
   ]
  },
  {
   "cell_type": "markdown",
   "id": "8b8c3b72",
   "metadata": {},
   "source": [
    "### 1.3 - Geocode a single address"
   ]
  },
  {
   "cell_type": "code",
   "execution_count": null,
   "id": "dc7e9d76-705c-4aca-9a1c-59f5ce10bbd5",
   "metadata": {},
   "outputs": [],
   "source": [
    "address='Universitätsstraße 7, 1010 Wien'"
   ]
  },
  {
   "cell_type": "markdown",
   "id": "38ddf165",
   "metadata": {},
   "source": [
    "**ArcGIS:**"
   ]
  },
  {
   "cell_type": "code",
   "execution_count": null,
   "id": "57538efc-33a9-4d67-a0ce-7fdd5f6db88c",
   "metadata": {},
   "outputs": [],
   "source": [
    "from geopy.geocoders import ArcGIS\n",
    "geolocator_arcgis = ArcGIS()\n",
    "\n",
    "location = geolocator_arcgis.geocode(address)\n",
    "print((location.latitude, location.longitude))"
   ]
  },
  {
   "cell_type": "markdown",
   "id": "ccd384cc",
   "metadata": {},
   "source": [
    "**OpenStreetMap:**\n",
    "\n",
    "OpenStreetMap's API is free of charge. You will need to give the email of your OSM account as input to the Nominatim class, instead of the API key."
   ]
  },
  {
   "cell_type": "code",
   "execution_count": null,
   "id": "1a02edba-ddb6-4bcd-8fdf-6fd5447d2818",
   "metadata": {},
   "outputs": [],
   "source": [
    "from geopy.geocoders import Nominatim\n",
    "## Set a higher timeout value (in seconds)\n",
    "geolocator_osm = Nominatim(user_agent=\"xxxxx@gmail.com\",timeout=10)\n",
    "\n",
    "location = geolocator_osm.geocode(address)\n",
    "print((location.latitude, location.longitude))"
   ]
  },
  {
   "cell_type": "markdown",
   "id": "cee33829",
   "metadata": {},
   "source": [
    "**Google Maps:**\n",
    "\n",
    "Google Maps API includes more steps including setting up a billing account, so we are skipping this in class. More info [here](https://developers.google.com/maps/documentation/geocoding/cloud-setup).\n",
    "\n",
    "![gm](../figs/lab5_figs/gm.png)"
   ]
  },
  {
   "cell_type": "markdown",
   "id": "d975c7b4",
   "metadata": {},
   "source": [
    "### 1.4 - Geocode a list of addresses and handle errors"
   ]
  },
  {
   "cell_type": "code",
   "execution_count": null,
   "id": "2e46e096-54b3-425e-adb9-8aa88ef78b12",
   "metadata": {},
   "outputs": [],
   "source": [
    "import pandas as pd\n",
    "\n",
    "## this csv includes top 30 cafes in Vienna \n",
    "## based on TripAdvisor ratings and number of reviews\n",
    "## lat and lon columns are geocoded using Google Maps API\n",
    "## with additional manual inspection, can be seen as ground truth\n",
    "df = pd.read_csv('cafe_poi_30.csv')\n",
    "df.head()"
   ]
  },
  {
   "cell_type": "code",
   "execution_count": null,
   "id": "cf8a7b8d-ca73-4896-8861-5a164f7b4f5c",
   "metadata": {},
   "outputs": [],
   "source": [
    "def service_geocode(g_locator, address):\n",
    "    location = g_locator.geocode(address)\n",
    "    if location!= None:\n",
    "        return (location.latitude, location.longitude)\n",
    "    else:\n",
    "        return None"
   ]
  },
  {
   "cell_type": "code",
   "execution_count": null,
   "id": "ed2a38c0-3c5e-49bc-b34e-12b83666af97",
   "metadata": {},
   "outputs": [],
   "source": [
    "## arcgis:\n",
    "df['LAT_LON_arcgis'] = df['name'].apply(lambda x: service_geocode(geolocator_arcgis, (x+', Vienna')))\n",
    "\n",
    "## OpenStreetMap:\n",
    "df['LAT_LON_osm'] = df['name'].apply(lambda x: service_geocode(geolocator_osm,(x+', Vienna')))\n",
    "\n",
    "df.head(10)"
   ]
  },
  {
   "cell_type": "markdown",
   "id": "b3736803",
   "metadata": {},
   "source": [
    "## 2 - Evaluation\n",
    "\n",
    "### 2.1 - Ground Truth Comparison\n",
    "Consider the `lat` `lon` columns in the dataframe as ground truth and compare the geocoding results against it.\n",
    "\n",
    "### 2.2 - Error Metrics \n",
    "We can use metrics like: \n",
    "- Mean Squared Error (MSE)\n",
    "- Root Mean Squared Error (RMSE)\n",
    "- Mean Absolute Error (MAE)\n",
    "\n",
    "to quantify the overall accuracy of the geocoding results. <br>\n",
    "\n",
    "\n",
    "![MSE](../figs/lab5_figs/MSE.png)\n",
    "![RMSE](../figs/lab5_figs/RMSE.jpg)\n",
    "\n",
    "![MAE](../figs/lab5_figs/MAE.png)\n"
   ]
  },
  {
   "cell_type": "code",
   "execution_count": null,
   "id": "847009b6-a780-440d-afc1-34fbd47cd771",
   "metadata": {},
   "outputs": [],
   "source": [
    "from math import radians, sin, cos, asin, sqrt\n",
    "import numpy as np\n",
    "\n",
    "def haversine(lon1, lat1, lon2, lat2):\n",
    "    lon1, lat1, lon2, lat2 = map(radians, [lon1, lat1, lon2, lat2])\n",
    "    dlon = lon2 - lon1 \n",
    "    dlat = lat2 - lat1 \n",
    "    a = sin(dlat/2)**2 + cos(lat1) * cos(lat2) * sin(dlon/2)**2\n",
    "    return 2 * 6371 * asin(sqrt(a))"
   ]
  },
  {
   "cell_type": "code",
   "execution_count": null,
   "id": "e27b5384-b01e-4f10-a28d-d3bb5c0a4f4b",
   "metadata": {},
   "outputs": [],
   "source": [
    "def mean_dist_off(df, col):\n",
    "    dist_off = []\n",
    "    for _,r in df.iterrows():\n",
    "        if r[col] != None:\n",
    "            dist_off.append(haversine(r['lon'],r['lat'], r[col][1], r[col][0]))\n",
    "    return np.mean(dist_off)"
   ]
  },
  {
   "cell_type": "markdown",
   "id": "214324cd",
   "metadata": {},
   "source": [
    "**Compute the mean distance off for the two geocoders:**"
   ]
  },
  {
   "cell_type": "code",
   "execution_count": null,
   "id": "534741b2-c023-46b0-b818-56ec5a554ad0",
   "metadata": {},
   "outputs": [],
   "source": [
    "arcgis_mean_dist_off = mean_dist_off(df,'LAT_LON_arcgis')\n",
    "arcgis_mean_dist_off"
   ]
  },
  {
   "cell_type": "code",
   "execution_count": null,
   "id": "ad648b38-4a4c-4ff3-bc03-279754746734",
   "metadata": {},
   "outputs": [],
   "source": [
    "osm_mean_dist_off = mean_dist_off(df,'LAT_LON_osm')\n",
    "osm_mean_dist_off"
   ]
  },
  {
   "cell_type": "markdown",
   "id": "d6dd8690",
   "metadata": {},
   "source": [
    "**Compute the recall for the two geocoders:**"
   ]
  },
  {
   "cell_type": "code",
   "execution_count": null,
   "id": "78666015-ee16-477a-afcf-7d1f96d9bfd0",
   "metadata": {},
   "outputs": [],
   "source": [
    "recall_arcgis = len(df['LAT_LON_arcgis'].dropna())/len(df['name'])\n",
    "recall_arcgis"
   ]
  },
  {
   "cell_type": "code",
   "execution_count": null,
   "id": "f12eb67f-61ad-47d8-8726-225ed9d548eb",
   "metadata": {},
   "outputs": [],
   "source": [
    "recall_osm = len(df['LAT_LON_osm'].dropna())/len(df['name'])\n",
    "recall_osm"
   ]
  },
  {
   "cell_type": "markdown",
   "id": "e7d593c2",
   "metadata": {},
   "source": [
    "### 2.3 - Visual Inspection\n",
    "Plot the geocoding results on a map and visually inspect the locations."
   ]
  },
  {
   "cell_type": "code",
   "execution_count": null,
   "id": "0557d9cf-a8f3-4f65-bfdd-66dc6f97687c",
   "metadata": {},
   "outputs": [],
   "source": [
    "import folium\n",
    "\n",
    "# add the first point as the start location and adjust the zoom level\n",
    "cafe_map = folium.Map(location=(df['lat'][0], df['lon'][0]), zoom_start=13, tiles=\"OpenStreetMap\")"
   ]
  },
  {
   "cell_type": "code",
   "execution_count": null,
   "id": "50ee5359-93d2-4dfb-b152-15b8f4eb0e3f",
   "metadata": {},
   "outputs": [],
   "source": [
    "# add ground truth as a feature group\n",
    "feature_group_gt = folium.FeatureGroup(\"Ground Truth\")\n",
    "for _, r in df.iterrows():\n",
    "    popup = folium.Popup(r['name'])\n",
    "    feature_group_gt.add_child(folium.Marker(location=[r['lat'], r['lon']], icon=folium.Icon(color='red'), popup=popup))\n",
    "    \n",
    "# add arcgis results as a feature group\n",
    "feature_group_arcgis = folium.FeatureGroup(\"ArcGIS Results\")\n",
    "for _, r in df.iterrows():\n",
    "    popup = folium.Popup(r['name'])\n",
    "    if r['LAT_LON_arcgis'] != None:\n",
    "        feature_group_arcgis.add_child(folium.Marker(location=[r['LAT_LON_arcgis'][0], r['LAT_LON_arcgis'][1]],\n",
    "                                                     icon=folium.Icon(color='blue'), popup=popup))\n",
    "    \n",
    "# add OpenStreetMap results as a feature group\n",
    "feature_group_osm = folium.FeatureGroup(\"OSM Results\")\n",
    "for _, r in df.iterrows():\n",
    "    popup = folium.Popup(r['name'])\n",
    "    if r['LAT_LON_osm'] != None:\n",
    "        feature_group_osm.add_child(folium.Marker(location=[r['LAT_LON_osm'][0], r['LAT_LON_osm'][1]],\n",
    "                                                 icon=folium.Icon(color='green'), popup=popup))"
   ]
  },
  {
   "cell_type": "code",
   "execution_count": null,
   "id": "dc4fb0ea-2495-4600-885b-cf0a04d123d0",
   "metadata": {},
   "outputs": [],
   "source": [
    "## add all feature groups to the map\n",
    "cafe_map.add_child(feature_group_gt)\n",
    "cafe_map.add_child(feature_group_arcgis)\n",
    "cafe_map.add_child(feature_group_osm)\n",
    "                                   \n",
    "## add layer control to the map\n",
    "folium.LayerControl().add_to(cafe_map)\n",
    "cafe_map"
   ]
  },
  {
   "cell_type": "markdown",
   "id": "c8030ac7",
   "metadata": {},
   "source": [
    "![map](../figs/lab5_figs/map.png)"
   ]
  },
  {
   "cell_type": "markdown",
   "id": "aefd0112",
   "metadata": {},
   "source": [
    "### 2.4 - Your observation based on the mean_dist_off, recall, and visual inspection:\n",
    "...\n"
   ]
  },
  {
   "cell_type": "markdown",
   "id": "ec4a57ba-335f-4458-8c2b-3de2a7d28e43",
   "metadata": {
    "id": "ec4a57ba-335f-4458-8c2b-3de2a7d28e43"
   },
   "source": [
    "## 3 - Submission\n",
    "Try the code blocks above, complete section 2.4 and submit the .ipynb file on Moodle."
   ]
  }
 ],
 "metadata": {
  "colab": {
   "provenance": []
  },
  "kernelspec": {
   "display_name": "Python 3 (ipykernel)",
   "language": "python",
   "name": "python3"
  },
  "language_info": {
   "codemirror_mode": {
    "name": "ipython",
    "version": 3
   },
   "file_extension": ".py",
   "mimetype": "text/x-python",
   "name": "python",
   "nbconvert_exporter": "python",
   "pygments_lexer": "ipython3",
   "version": "3.12.0"
  }
 },
 "nbformat": 4,
 "nbformat_minor": 5
}