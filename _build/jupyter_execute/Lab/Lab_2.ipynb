{
 "cells": [
  {
   "cell_type": "markdown",
   "id": "e0063f07",
   "metadata": {},
   "source": [
    "# Lab 2 - Spatial Data\n",
    "\n",
    "Th. 10.10.2024 15:00-17:00\n",
    "***"
   ]
  },
  {
   "cell_type": "markdown",
   "id": "a4b3c18c-1e64-42c6-9089-5ccd8a6b4994",
   "metadata": {},
   "source": [
    "## 1 - Troubleshooting"
   ]
  },
  {
   "cell_type": "markdown",
   "id": "cc4b2f7e",
   "metadata": {},
   "source": [
    "### 1.1 - Google Colab: Alternative Choices of Using Jupyter Notebook\n",
    "\n",
    "Google Colab can serve as the first backup plan in case <strong>conda</strong> on both your local and lab computers are not working.\n",
    "\n",
    "![colab](../figs/lab2_figs/colab.png)"
   ]
  },
  {
   "cell_type": "markdown",
   "id": "bffe077f",
   "metadata": {},
   "source": [
    "**You can go to Colab from [here](https://colab.google).**\n",
    "\n",
    "To check third-party packages that have already been installed in Colab, execute the following command with [pip](https://pypi.org/project/pip) (rather than [conda](https://docs.conda.io/en/latest/)). Make sure to start with an exclamation mark <strong>!</strong> to tell Jupyter Notebook to run the command as a shell command (rather than as Python codes). \n",
    "\n",
    "`!pip list`\n",
    "\n",
    "You may also see <strong>Pandas</strong> from the list.\n",
    "\n",
    "![pip_list](../figs/lab2_figs/pip_list.png)"
   ]
  },
  {
   "cell_type": "markdown",
   "id": "36fcc4f9-3207-413a-9f6f-c95108a76bef",
   "metadata": {},
   "source": [
    "### 1.2 - How to Remove the Virtual Environment and Create a New One\n",
    "\n",
    "If packages are kept preventing from successful installation on your local computer, one of the reasons (in addition to your computer setting, Anaconda, etc.) could be that the setup of your virual environment was messed up. You can try the following command to remove it.\n",
    "\n",
    "- `conda remove --name gir --all`\n",
    "\n",
    "And then create the virual environment again with the commands shown in Lab 1."
   ]
  },
  {
   "cell_type": "markdown",
   "id": "d2987974",
   "metadata": {},
   "source": [
    "From here you can install the packages that you need.\n",
    "\n",
    "**For instance, we can install <strong>GeoPandas</strong>, which will be used in this session.**\n",
    "\n",
    "To do so, you can execute the following command...\n",
    "\n",
    "`!pip install geopandas`\n",
    "\n",
    "... and then run the code below to check whether the installation is successful.\n",
    "\n",
    "`import geopandas`\n",
    "\n",
    "![pip_geopandas](../figs/lab2_figs/pip_geopandas.png)"
   ]
  },
  {
   "cell_type": "markdown",
   "id": "74eb8c17",
   "metadata": {},
   "source": [
    "### 1.3 - JupyterHub\n",
    "\n",
    "Now we have a brand new solution which frees us from installing the virtual programming environment locally or using Google Colab. The solution is **JupyterHub**, set up by our IT. You can access it on our course Moodle webpage.\n",
    "![jupyterhub_1](../figs/lab2_figs/jupyterhub_1.png)\n",
    "\n",
    "When you enter JupyterHub, click **Start My Server**.\n",
    "![jupyterhub_2](../figs/lab2_figs/jupyterhub_2.png)\n",
    "\n",
    "After that, select **IT_Geo**.\n",
    "![jupyterhub_3](../figs/lab2_figs/jupyterhub_3.png)\n",
    "\n",
    "You are ready to go! And start from this lab session, let us use JupyterHub.\n",
    "***"
   ]
  },
  {
   "cell_type": "markdown",
   "id": "b5f43a3a",
   "metadata": {},
   "source": [
    "## 2 - GeoPandas for Spatial Data\n",
    "\n",
    "[GeoPandas](https://geopandas.org/en/stable/) is designed to process spatial data in Python. Geopandas combines the capabilities of the data analysis library Pandas with other packages like [shapely](https://shapely.readthedocs.io/en/stable/manual.html) and [fiona](https://fiona.readthedocs.io/en/stable/) for managing spatial data.\n",
    "\n",
    "![shapely](../figs/lab2_figs/shapely.png)\n",
    "![fiona](../figs/lab2_figs/fiona.png)\n",
    "\n",
    "GeoPandas can manipulate geometries, read and write files in GIS formats, inherit powerful functionalities from Pandas... Generally speaking, it allows us to perform geospatial processing in a <strong>spatial-database</strong> manner."
   ]
  },
  {
   "cell_type": "markdown",
   "id": "110d9dc3",
   "metadata": {},
   "source": [
    "### 2.1 - GeoPandas v.s. Pandas (for Non-spatial Data)\n",
    "\n",
    "The two key components in Pandas are [Series](https://pandas.pydata.org/docs/reference/api/pandas.Series.html) and [DataFrame](https://pandas.pydata.org/docs/reference/api/pandas.DataFrame.html). A Series is essentially a column, and a DataFrame is a multi-dimensional table made up of a collection of Series.\n",
    "\n",
    "![series_dataframe](../figs/lab2_figs/series_dataframe.png)\n",
    "\n",
    "Similarly, the main data structures in GeoPandas are [GeoSeries](https://geopandas.org/en/stable/docs/reference/geoseries.html) and [GeoDataFrame](https://geopandas.org/en/stable/docs/reference/api/geopandas.GeoDataFrame.html). They extend the capabilities of Series and DataFrame, respectively.\n",
    "\n",
    "The key difference between GeoDataFrame and DataFrame is that a GeoDataFrame should contain at least one column for geometries. By default, the name of this column is <strong>geometry</strong>. The geometry column is a GeoSeries that contains the geometries (points, lines, polygons, multipolygons, etc.) as shapely objects.\n",
    "\n",
    "[Hint: <em>In our course, we will focus on learning to use GeoPandas. The takeaway can easily transfer to Pandas.</em>]\n",
    "     \n",
    "![geodataframe](../figs/lab2_figs/geodataframe.png)\n",
    "***"
   ]
  },
  {
   "cell_type": "markdown",
   "id": "d04a713a",
   "metadata": {},
   "source": [
    "## 3 - Working with [Natural Earth](https://www.naturalearthdata.com/) Vector Data\n",
    "\n",
    "![natural_earth](../figs/lab2_figs/natural_earth.png)"
   ]
  },
  {
   "cell_type": "markdown",
   "id": "ba01dd13",
   "metadata": {},
   "source": [
    "### 3.1 - Data Download\n",
    "\n",
    "Go to the <strong>Downloads</strong> tab and click on the <strong>Cultural</strong> category of <strong>Large scale data, 1:10m</strong>. Then, download vector data (the one with 4.7 MB) for <strong>Admin 0 - countries</strong>. Extract the zip file to the same directory of the Jupyter notebook.\n",
    "\n",
    "![download_natural_earth](../figs/lab2_figs/download_natural_earth.png)\n",
    "![admin0_countries](../figs/lab2_figs/admin0_countries.png)"
   ]
  },
  {
   "cell_type": "markdown",
   "id": "c4d2c78a",
   "metadata": {},
   "source": [
    "### 3.2 - Load Data"
   ]
  },
  {
   "cell_type": "code",
   "execution_count": null,
   "id": "9954f5d7",
   "metadata": {},
   "outputs": [],
   "source": [
    "import geopandas as gpd ## use the abbreviation of an imported package (if necessary)"
   ]
  },
  {
   "cell_type": "code",
   "execution_count": null,
   "id": "3e0bd911",
   "metadata": {},
   "outputs": [],
   "source": [
    "df_countries = gpd.read_file('ne_10m_admin_0_countries/ne_10m_admin_0_countries.shp') ## read shapefile\n",
    "\n",
    "## show the first several records\n",
    "## the default number is 5\n",
    "## try to comment this line of code, and uncomment one of the rest and run the cell again\n",
    "df_countries.head()\n",
    "\n",
    "# df_countries.head(1) ## try to uncomment and output the first record\n",
    "# df_countries.tail() ## try to uncomment and output the last five records"
   ]
  },
  {
   "cell_type": "markdown",
   "id": "d16d64ed",
   "metadata": {},
   "source": [
    "### 3.3 - Statistical Analysis"
   ]
  },
  {
   "cell_type": "code",
   "execution_count": null,
   "id": "6ec30e04",
   "metadata": {},
   "outputs": [],
   "source": [
    "## This method prints information about a GeoDataFrame.\n",
    "df_countries.info() "
   ]
  },
  {
   "cell_type": "code",
   "execution_count": null,
   "id": "10f130c2",
   "metadata": {},
   "outputs": [],
   "source": [
    "df_countries.describe() ## descriptive statistics"
   ]
  },
  {
   "cell_type": "markdown",
   "id": "4b773824",
   "metadata": {},
   "source": [
    "However, how many columns (i.e., fields) do we have in the GeoDataFrame?"
   ]
  },
  {
   "cell_type": "code",
   "execution_count": null,
   "id": "064aabbc",
   "metadata": {},
   "outputs": [],
   "source": [
    "df_countries.columns"
   ]
  },
  {
   "cell_type": "code",
   "execution_count": null,
   "id": "fd9fa014",
   "metadata": {},
   "outputs": [],
   "source": [
    "len(df_countries.columns)"
   ]
  },
  {
   "cell_type": "markdown",
   "id": "c87bfe50",
   "metadata": {},
   "source": [
    "The answer is 169. Only, <strong>numerical</strong> fields can be involved in the descriptive statistical analysis."
   ]
  },
  {
   "cell_type": "markdown",
   "id": "13004538",
   "metadata": {},
   "source": [
    "### 3.4 - Querying over GeoDataFrame"
   ]
  },
  {
   "cell_type": "code",
   "execution_count": null,
   "id": "ea2f42b4",
   "metadata": {},
   "outputs": [],
   "source": [
    "## make sure to use the double equal sign\n",
    "df_countries_austria = df_countries[df_countries['SOVEREIGNT'] == 'Austria'] \n",
    "df_countries_austria"
   ]
  },
  {
   "cell_type": "markdown",
   "id": "ad8bfa72",
   "metadata": {},
   "source": [
    "If we want to know more about Austria, we can choose one of the fields the GeoDataFrame has.\n",
    "\n",
    "Here we will choose 'LEVEL'. The result indicates that Austria's 'LEVEL' is 2."
   ]
  },
  {
   "cell_type": "code",
   "execution_count": null,
   "id": "29cd1f4b",
   "metadata": {},
   "outputs": [],
   "source": [
    "df_countries_austria['LEVEL']\n",
    "## Alternatively, you can try...\n",
    "# df_countries_austria.LEVEL"
   ]
  },
  {
   "cell_type": "markdown",
   "id": "c9f09bf0",
   "metadata": {},
   "source": [
    "Is there any countries that have a 'LEVEL' not equal to 2?"
   ]
  },
  {
   "cell_type": "code",
   "execution_count": null,
   "id": "d86babc9",
   "metadata": {},
   "outputs": [],
   "source": [
    "df_countries[df_countries['LEVEL'] != 2] ## != means 'not equal to'"
   ]
  },
  {
   "cell_type": "markdown",
   "id": "6626b60e",
   "metadata": {},
   "source": [
    "It looks like there are two countries, Kazakhastan and Cuba, that meet this search criteria."
   ]
  },
  {
   "cell_type": "markdown",
   "id": "48b9e8b2",
   "metadata": {},
   "source": [
    "### 3.5 - Coordinate System Transformation\n",
    "\n",
    "What kind of coordinate system does the country data use?"
   ]
  },
  {
   "cell_type": "code",
   "execution_count": null,
   "id": "d936ee14",
   "metadata": {},
   "outputs": [],
   "source": [
    "df_countries.crs"
   ]
  },
  {
   "cell_type": "markdown",
   "id": "7833999c",
   "metadata": {},
   "source": [
    "It is a geographic coordinate system <strong>WGS 84</strong>, represented as [EPSG:4326](https://epsg.io/4326) by [EPSG](https://epsg.io/). EPSG is a open-source web service with a database consisting of all widely-used coordinate reference systems with unique Uniform Resource Locators (URLs) on the web.\n",
    "\n",
    "![wgs84](../figs/lab2_figs/wgs84.png)"
   ]
  },
  {
   "cell_type": "markdown",
   "id": "edbffb42",
   "metadata": {},
   "source": [
    "Assume now we want to compute distances among European countries. Therefore, a projected coordinate system that preserve distance is required. Here we choose a system that uses the equidistant conic projection, which is [ESRI:102031](https://epsg.io/102031).\n",
    "\n",
    "![esri_102031](../figs/lab2_figs/esri_102031.png)"
   ]
  },
  {
   "cell_type": "code",
   "execution_count": null,
   "id": "c9bf9522",
   "metadata": {},
   "outputs": [],
   "source": [
    "## use to_crs to do coordinate system transformation\n",
    "df_countries_projected = df_countries.to_crs('ESRI:102031') "
   ]
  },
  {
   "cell_type": "markdown",
   "id": "5ad7e667",
   "metadata": {},
   "source": [
    "Check the difference in how geometries are represented."
   ]
  },
  {
   "cell_type": "code",
   "execution_count": null,
   "id": "7b8ed0cf",
   "metadata": {},
   "outputs": [],
   "source": [
    "## geometries represented in a geographic coordinate system\n",
    "df_countries.geometry "
   ]
  },
  {
   "cell_type": "code",
   "execution_count": null,
   "id": "b7448bbd",
   "metadata": {},
   "outputs": [],
   "source": [
    "## geometries represented in a projected coordinate system\n",
    "df_countries_projected.geometry "
   ]
  },
  {
   "cell_type": "markdown",
   "id": "3ff51bad",
   "metadata": {},
   "source": [
    "Again, you can browse information about ESRI:102031, e.g., Area of Use, Datum (different from WGS 84), etc."
   ]
  },
  {
   "cell_type": "code",
   "execution_count": null,
   "id": "30afcec8",
   "metadata": {},
   "outputs": [],
   "source": [
    "df_countries_projected.crs"
   ]
  },
  {
   "cell_type": "markdown",
   "id": "04ce5947",
   "metadata": {},
   "source": [
    "### 3.6 - Distance Computation\n",
    "\n",
    "Now we would like to compute the distance between Austria and Italy based on their centroids. We will extract their planar coordinates first, and then compute Eucliean distances.  "
   ]
  },
  {
   "cell_type": "code",
   "execution_count": null,
   "id": "5c538020",
   "metadata": {},
   "outputs": [],
   "source": [
    "## get centroids respectively\n",
    "centroid_aut_planar = df_countries_projected[df_countries_projected['SOVEREIGNT'] == 'Austria'].centroid.iloc[0]\n",
    "\n",
    "centroid_ita_planar = df_countries_projected[df_countries_projected['SOVEREIGNT'] == 'Italy'].centroid.iloc[0]"
   ]
  },
  {
   "cell_type": "code",
   "execution_count": null,
   "id": "40865f48",
   "metadata": {},
   "outputs": [],
   "source": [
    "## get x and y coordinates respectively\n",
    "x1_planar = centroid_aut_planar.x\n",
    "x2_planar = centroid_ita_planar.x\n",
    "y1_planar = centroid_aut_planar.y\n",
    "y2_planar = centroid_ita_planar.y"
   ]
  },
  {
   "cell_type": "code",
   "execution_count": null,
   "id": "ccbc7b15",
   "metadata": {},
   "outputs": [],
   "source": [
    "# import math to help compute the square and square root\n",
    "import math \n",
    "\n",
    "math.sqrt(math.pow(x1_planar-x2_planar, 2) + math.pow(y1_planar-y2_planar, 2))"
   ]
  },
  {
   "cell_type": "markdown",
   "id": "05ed9cc8",
   "metadata": {},
   "source": [
    "The distance is approximately 564 kilomters."
   ]
  },
  {
   "cell_type": "markdown",
   "id": "268aa258",
   "metadata": {},
   "source": [
    "## 4 - Submission\n",
    "\n",
    "For the participation grade, try the codes above and compute the great-circle distance using the Haversine Formula. Observe the difference in how distances can be. It is also natural that warning messages may pop up because it is not a standard practice of computing centroids within a geographic coordinate system. You are welcome to switch Austria-Italy to any other pairs of countries for comparison. "
   ]
  },
  {
   "cell_type": "code",
   "execution_count": null,
   "id": "7664f98b",
   "metadata": {},
   "outputs": [],
   "source": [
    "## getting latitudes and longitudes\n",
    "# you don't need a separate line here, this is just to show everthing in pdf\n",
    "centroid_1 = df_countries[df_countries['SOVEREIGNT'] \n",
    "                          == 'Austria'].centroid.iloc[0]\n",
    "\n",
    "centroid_2 = df_countries[df_countries['SOVEREIGNT'] \n",
    "                          == 'Italy'].centroid.iloc[0]\n",
    "\n",
    "x1 = centroid_1.x #longitude\n",
    "x2 = centroid_2.x\n",
    "\n",
    "y1 = centroid_1.y #latitude\n",
    "y2 = centroid_2.y"
   ]
  },
  {
   "cell_type": "code",
   "execution_count": null,
   "id": "576f9546",
   "metadata": {},
   "outputs": [],
   "source": [
    "from math import radians, sin, cos, asin, sqrt\n",
    "\n",
    "def haversine(lon1, lat1, lon2, lat2):\n",
    "    lon1, lat1, lon2, lat2 = map(radians, [lon1, lat1, lon2, lat2])\n",
    "    dlon = lon2 - lon1 \n",
    "    dlat = lat2 - lat1 \n",
    "    a = sin(dlat/2)**2 + cos(lat1) * cos(lat2) * sin(dlon/2)**2\n",
    "    return 2 * 6371 * asin(sqrt(a))"
   ]
  },
  {
   "cell_type": "code",
   "execution_count": null,
   "id": "592a6f77",
   "metadata": {},
   "outputs": [],
   "source": [
    "# note that x is longitude, y is latitude here\n",
    "haversine(x1, y1, x2, y2)"
   ]
  }
 ],
 "metadata": {
  "kernelspec": {
   "display_name": "Python 3 (ipykernel)",
   "language": "python",
   "name": "python3"
  },
  "language_info": {
   "codemirror_mode": {
    "name": "ipython",
    "version": 3
   },
   "file_extension": ".py",
   "mimetype": "text/x-python",
   "name": "python",
   "nbconvert_exporter": "python",
   "pygments_lexer": "ipython3",
   "version": "3.12.0"
  }
 },
 "nbformat": 4,
 "nbformat_minor": 5
}