{
 "cells": [
  {
   "cell_type": "markdown",
   "id": "b6e5020d",
   "metadata": {},
   "source": [
    "# Lab 3 - Spatial Relations\n",
    "\n",
    "Th. 17.10.2024 15:00-17:00\n",
    "***"
   ]
  },
  {
   "cell_type": "markdown",
   "id": "78cc9a65",
   "metadata": {},
   "source": [
    "## 1 - Calculate Spatial Relations and Plotting\n",
    "\n",
    "### 1.1 - Read Data"
   ]
  },
  {
   "cell_type": "code",
   "execution_count": null,
   "id": "d5ddd465",
   "metadata": {},
   "outputs": [],
   "source": [
    "import pandas as pd\n",
    "import geopandas as gpd\n",
    "import matplotlib.pyplot as plt"
   ]
  },
  {
   "cell_type": "code",
   "execution_count": null,
   "id": "fe04131e",
   "metadata": {},
   "outputs": [],
   "source": [
    "# read the same shapefile from lab 2\n",
    "\n",
    "df_countries = gpd.read_file('ne_10m_admin_0_countries/ne_10m_admin_0_countries.shp')"
   ]
  },
  {
   "cell_type": "code",
   "execution_count": null,
   "id": "d3f9162a",
   "metadata": {},
   "outputs": [],
   "source": [
    "# check coordinate reference systems\n",
    "df_countries.crs"
   ]
  },
  {
   "cell_type": "code",
   "execution_count": null,
   "id": "7a2962ba",
   "metadata": {},
   "outputs": [],
   "source": [
    "# read point dataset of earthquakes catalogue(1970-2014) from Humanitarian Data Exchange\n",
    "\n",
    "url = 'https://data.humdata.org/dataset/4881d82b-ba63-4515-b748-c364f3d05b42/resource/10ac8776-5141-494b-b3cd-bf7764b2f964/download/earthquakes1970-2014.csv'\n",
    "earthquakes = pd.read_csv(url)\n",
    "earthquakes.head()"
   ]
  },
  {
   "cell_type": "markdown",
   "id": "b54716a5",
   "metadata": {},
   "source": [
    "### 1.2 - Plot the earthquake dataset"
   ]
  },
  {
   "cell_type": "code",
   "execution_count": null,
   "id": "c6409c75",
   "metadata": {},
   "outputs": [],
   "source": [
    "from shapely.geometry import Point\n",
    "from geopandas import GeoDataFrame"
   ]
  },
  {
   "cell_type": "code",
   "execution_count": null,
   "id": "33d84a25",
   "metadata": {},
   "outputs": [],
   "source": [
    "# zip x and y coordinates into single feature\n",
    "geometry = [Point(xy) for xy in zip(earthquakes['Longitude'], earthquakes['Latitude'])]\n",
    "\n",
    "# create a GeoPandas dataframe\n",
    "# designate coordinate system to be the same with countries dataframe\n",
    "df_earthquakes = GeoDataFrame(earthquakes, crs=df_countries.crs, geometry=geometry)   \n",
    "\n",
    "# plot df_countries as base map\n",
    "df_earthquakes.plot(ax=df_countries.plot(figsize=(12, 8)), marker='o', color='red', markersize=12);"
   ]
  },
  {
   "cell_type": "markdown",
   "id": "3f207247",
   "metadata": {},
   "source": [
    "### 1.3 - Spatial Joins between two GeoDataFrames\n",
    "\n",
    "A spatial join uses binary predicates such as **intersects** and **crosses** to combine two GeoDataFrames based on the spatial relationship between their geometries.\n",
    "\n",
    "A common use case might be a spatial join between a **point** layer and a **polygon** layer where you want to **retain the point geometries** and grab the attributes of the intersecting polygons."
   ]
  },
  {
   "cell_type": "markdown",
   "id": "1e30680f",
   "metadata": {},
   "source": [
    "**Types of spatial joins:**\n",
    "- LEFT OUTER JOIN `(how=\"left\")` : keep **all rows** from the **left** and duplicate them if necessary to represent multiple hits between the two dataframes. **Retaining the geometries of the left.** \n",
    "- RIGHT OUTER JOIN `(how=\"right\")`: keep **all rows** from the **right** and duplicate them if necessary to represent multiple hits between the two dataframes. **Retaining the geometries of the right.** \n",
    "- INNER JOIN `(how=\"inner\")`: keep rows from the **right and left** only where their binary predicate is **TRUE** and lose all rows that do not. **Retaining the geometries of the left.** \n",
    "\n",
    "More information on spatial joins can be found [here](https://geopandas.org/en/stable/gallery/spatial_joins.html)."
   ]
  },
  {
   "cell_type": "code",
   "execution_count": null,
   "id": "3c3f8753",
   "metadata": {},
   "outputs": [],
   "source": [
    "# a left outer join for point earthquake data within the country polygon\n",
    "join_left_df = df_earthquakes.sjoin(df_countries, how=\"left\", predicate=\"within\")\n",
    "\n",
    "# get the row count of the dataframe after spatial join\n",
    "len(join_left_df)"
   ]
  },
  {
   "cell_type": "markdown",
   "id": "c2fd243d",
   "metadata": {},
   "source": [
    "**You can use this to find out all unique country names in df_countries:**\n",
    "\n",
    "`df_countries.SOVEREIGNT.unique()`"
   ]
  },
  {
   "cell_type": "code",
   "execution_count": null,
   "id": "f4c53f06",
   "metadata": {},
   "outputs": [],
   "source": [
    "# get all earthquakes happened in Japan for example\n",
    "# you can change it to other countries here\n",
    "country_of_interest = 'Japan'\n",
    "\n",
    "country_earthquakes = join_left_df[join_left_df['SOVEREIGNT'] == country_of_interest]\n",
    "\n",
    "# get the row count of country_earthquakes dataframe\n",
    "len(country_earthquakes)"
   ]
  },
  {
   "cell_type": "code",
   "execution_count": null,
   "id": "4306d794",
   "metadata": {},
   "outputs": [],
   "source": [
    "# get a specific country from the countries base map\n",
    "country_boundary = df_countries[df_countries['SOVEREIGNT'] == country_of_interest] \n",
    "\n",
    "# plot earthquake data of the specific country\n",
    "country_earthquakes.plot(ax=country_boundary.plot(figsize=(12, 8)), marker='o', color='red', markersize=12)"
   ]
  },
  {
   "cell_type": "markdown",
   "id": "55efc15f",
   "metadata": {},
   "source": [
    "### 1.4 - Buffer\n",
    "Returns a GeoSeries of geometries representing all points within a given distance of each geometric object. \n",
    "\n",
    "More information on buffer can be found [here](https://geopandas.org/en/stable/docs/reference/api/geopandas.GeoSeries.buffer.html).\n",
    "![buffer](../figs/lab3_figs/buffer.png)"
   ]
  },
  {
   "cell_type": "code",
   "execution_count": null,
   "id": "5b9216fd",
   "metadata": {},
   "outputs": [],
   "source": [
    "# note on the projected CRS before calculating buffer\n",
    "# otherwise you will see this warning: \n",
    "# UserWarning: Geometry is in a geographic CRS. Results from 'centroid' are likely incorrect. \n",
    "# Use 'GeoSeries.to_crs()' to re-project geometries to a projected CRS before this operation.\n",
    "\n",
    "# create a new geodataframe for the buffer polygon\n",
    "# unit of buffer distance depends on the projected CRS, for epsg3857 it is meter\n",
    "country_buffer = gpd.GeoDataFrame(geometry=country_boundary.to_crs('epsg:3857').geometry.buffer(20000))\n",
    "\n",
    "# a inner join of point earthquake data with the buffer polygon\n",
    "country_buffer_earthquakes = df_earthquakes.sjoin(country_buffer.to_crs(df_earthquakes.crs), how=\"inner\", predicate=\"within\")\n",
    "\n",
    "# get the row count of the dataframe after buffer\n",
    "len(country_buffer_earthquakes)"
   ]
  },
  {
   "cell_type": "code",
   "execution_count": null,
   "id": "d806ecc3",
   "metadata": {},
   "outputs": [],
   "source": [
    "# plot earthquake data of the specific country within the 20km buffer\n",
    "country_buffer_earthquakes.plot(ax=country_buffer.to_crs('epsg:4326').plot(figsize=(12, 8)), marker='o', color='red', markersize=12)"
   ]
  },
  {
   "cell_type": "markdown",
   "id": "fc31482e",
   "metadata": {},
   "source": [
    "## 2 - Plotting with Folium\n",
    "\n",
    "Folium builds on the data wrangling strengths of the Python ecosystem and the mapping strengths of the leaflet.js library. This allows you to manipulate your data in Geopandas and visualize it on a **Leaflet map** via Folium.\n",
    "\n",
    "More information on Folium can be found [here](https://geopandas.org/en/stable/gallery/plotting_with_folium.html).\n",
    "\n",
    "### 2.1 - Leaflet\n",
    "Leaflet is the leading open-source **JavaScript** library for **mobile-friendly interactive maps**. For more information, docs and tutorials, check out the [official website](https://leafletjs.com/).\n",
    "\n",
    "![leaflet](../figs/lab3_figs/leaflet.png)"
   ]
  },
  {
   "cell_type": "markdown",
   "id": "a1087eb6",
   "metadata": {},
   "source": [
    "### 2.2 - Installation\n",
    "Folium should be already installed. **If** you cannot do `import folium`, **try** the command:\n",
    "`conda install -c conda-forge folium`"
   ]
  },
  {
   "cell_type": "code",
   "execution_count": null,
   "id": "b1152bf2",
   "metadata": {},
   "outputs": [],
   "source": [
    "# get country centroid\n",
    "centroid = df_countries[df_countries['SOVEREIGNT'] == country_of_interest]\n",
    "\n",
    "# note on the projected CRS before calculating centroid\n",
    "# otherwise you will see this warning: \n",
    "# UserWarning: Geometry is in a geographic CRS. Results from 'centroid' are likely incorrect. \n",
    "# Use 'GeoSeries.to_crs()' to re-project geometries to a projected CRS before this operation.\n",
    "centroid = country_boundary.to_crs('epsg:3857').centroid.to_crs(country_boundary.crs).iloc[0]\n",
    "(centroid.y, centroid.x)"
   ]
  },
  {
   "cell_type": "code",
   "execution_count": null,
   "id": "1f24a555",
   "metadata": {},
   "outputs": [],
   "source": [
    "import folium\n",
    "\n",
    "# add a start location and adjust the zoom level\n",
    "earthquake_map = folium.Map(location=(centroid.y, centroid.x), \n",
    "                            zoom_start=5, tiles=\"OpenStreetMap\")\n",
    "\n",
    "# plot the earthquake data\n",
    "# circle size is inversely proportional to the depth\n",
    "for i in range(0, len(country_earthquakes)):\n",
    "    folium.CircleMarker(location=[country_earthquakes['Latitude'].iloc[i], \n",
    "                            country_earthquakes['Longitude'].iloc[i]], color='red',fill=True,\n",
    "                        radius=100/country_earthquakes['Depth'].iloc[i]).add_to(earthquake_map)\n",
    "earthquake_map"
   ]
  },
  {
   "cell_type": "markdown",
   "id": "0524266d",
   "metadata": {},
   "source": [
    "## 3 - Submission\n",
    "\n",
    "Try the code blocks above, choose a **different** country to map, and submit the .ipynb file."
   ]
  }
 ],
 "metadata": {
  "kernelspec": {
   "display_name": "Python 3 (ipykernel)",
   "language": "python",
   "name": "python3"
  },
  "language_info": {
   "codemirror_mode": {
    "name": "ipython",
    "version": 3
   },
   "file_extension": ".py",
   "mimetype": "text/x-python",
   "name": "python",
   "nbconvert_exporter": "python",
   "pygments_lexer": "ipython3",
   "version": "3.11.5"
  }
 },
 "nbformat": 4,
 "nbformat_minor": 5
}