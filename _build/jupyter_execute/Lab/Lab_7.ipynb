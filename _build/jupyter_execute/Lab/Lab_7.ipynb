{
 "cells": [
  {
   "cell_type": "markdown",
   "id": "0eb7fbba",
   "metadata": {},
   "source": [
    "# Lab 7 - Relevance Ranking\n",
    "\n",
    "Th. 14.11.2024 15:00-17:00\n",
    "***"
   ]
  },
  {
   "cell_type": "markdown",
   "id": "59cfbe52",
   "metadata": {},
   "source": [
    "## 1 - Term Frequency - Inverse Document Frequency (TF-IDF)\n",
    "\n",
    "$ TF-IDF(t,d,D) = Term Frequency (t,d) \\times Inverse Document Frequency (t,D)$\n",
    "\n",
    "![tfidf](../figs/lab7_figs/tfidf.png)"
   ]
  },
  {
   "cell_type": "code",
   "execution_count": null,
   "id": "95d6648f",
   "metadata": {},
   "outputs": [],
   "source": [
    "## the data set is again from Seattle Airbnb Open Data on Kaggle\n",
    "## https://www.kaggle.com/datasets/airbnb/seattle\n",
    "## including full descriptions of airbnb listings and average review score\n",
    "\n",
    "import pandas as pd\n",
    "listings = pd.read_csv('listings.csv')"
   ]
  },
  {
   "cell_type": "markdown",
   "id": "cef5688f",
   "metadata": {},
   "source": [
    "### 1.1 - Data Preprocessing"
   ]
  },
  {
   "cell_type": "code",
   "execution_count": null,
   "id": "7590c13a",
   "metadata": {},
   "outputs": [],
   "source": [
    "## select the columns of interest and drop all rows containing missing values\n",
    "listings_selected = listings[['id','name','neighborhood_overview','neighbourhood_group_cleansed']].dropna()\n",
    "\n",
    "## rename a column\n",
    "listings_selected = listings_selected.rename(columns={'neighbourhood_group_cleansed':'neighborhood'})\n",
    "listings_selected"
   ]
  },
  {
   "cell_type": "code",
   "execution_count": null,
   "id": "e567bed6",
   "metadata": {},
   "outputs": [],
   "source": [
    "## group and aggregate overviews by neighborhood\n",
    "grouped_df = listings_selected.groupby('neighborhood')['neighborhood_overview'].agg(lambda x: ' '.join(x)).reset_index()\n",
    "grouped_df"
   ]
  },
  {
   "cell_type": "code",
   "execution_count": null,
   "id": "3a18d1d0",
   "metadata": {},
   "outputs": [],
   "source": [
    "import spacy\n",
    "nlp = spacy.load(\"en_core_web_sm\")\n",
    "\n",
    "## function to keep only alphabetical terms (excluding stop words) in the overview\n",
    "def clean_text(text):\n",
    "    doc = nlp(text)\n",
    "    alpha_non_stop_tokens = [token.text for token in doc if token.is_alpha and not token.is_stop]\n",
    "    cleaned_text = ' '.join(alpha_non_stop_tokens)\n",
    "    return cleaned_text\n",
    "\n",
    "## apply the function to the overview column\n",
    "grouped_df['cleaned_overview'] = grouped_df['neighborhood_overview'].apply(clean_text)\n",
    "grouped_df"
   ]
  },
  {
   "cell_type": "markdown",
   "id": "87399618",
   "metadata": {},
   "source": [
    "### 1.2 - Compute TF-IDF"
   ]
  },
  {
   "cell_type": "code",
   "execution_count": null,
   "id": "48e3669b",
   "metadata": {},
   "outputs": [],
   "source": [
    "## compute TF-IDF using packages sklearn\n",
    "from sklearn.feature_extraction.text import TfidfVectorizer\n",
    "tfidf = TfidfVectorizer()"
   ]
  },
  {
   "cell_type": "code",
   "execution_count": null,
   "id": "f79cb07a",
   "metadata": {},
   "outputs": [],
   "source": [
    "# compute TF-IDF on the 'cleaned_overview' column\n",
    "tfidf_matrix = tfidf.fit_transform(grouped_df['cleaned_overview'])\n",
    "\n",
    "## convert TF-IDF matrix into a dataframe\n",
    "tfidf_df = pd.DataFrame(tfidf_matrix.toarray(), columns=tfidf.get_feature_names_out())\n",
    "\n",
    "# set the 'neighborhood' column as the index in the dataframe\n",
    "tfidf_df.set_index(grouped_df['neighborhood'], inplace=True)\n",
    "\n",
    "tfidf_df"
   ]
  },
  {
   "cell_type": "markdown",
   "id": "6513e7d6",
   "metadata": {},
   "source": [
    "### 1.3 - Extract top TF-IDF results for one neighborhood"
   ]
  },
  {
   "cell_type": "code",
   "execution_count": null,
   "id": "e18c5e5c",
   "metadata": {},
   "outputs": [],
   "source": [
    "## extract one neighborhood as a dataframe, transpose it, and reset column name\n",
    "tfidf_ballard = tfidf_df.loc[['Ballard']].drop('neighborhood', axis=1).transpose()\n",
    "tfidf_ballard.columns = ['TF-IDF']\n",
    "\n",
    "## sort the tfidf values and only show the top 20 results\n",
    "tfidf_ballard = tfidf_ballard.sort_values('TF-IDF', ascending=False)\n",
    "tfidf_ballard.head(20)"
   ]
  },
  {
   "cell_type": "markdown",
   "id": "a3711e88",
   "metadata": {},
   "source": [
    "### 1.4 - Relevance Ranking with TF-IDF \n",
    "With TF-IDF for each word in the document, we can then compute the relevance of a query in respect to the candidate documents. "
   ]
  },
  {
   "cell_type": "code",
   "execution_count": null,
   "id": "35f60dd4",
   "metadata": {},
   "outputs": [],
   "source": [
    "## given two query terms\n",
    "from sklearn.metrics.pairwise import cosine_similarity\n",
    "query_terms = ['pike', 'coffee']\n",
    "\n",
    "## combine the query terms into a single string\n",
    "query = ' '.join(query_terms)\n",
    "\n",
    "# add the query string to the dataframe as a new row\n",
    "new_row = {'neighborhood': 'query_term', \n",
    "           'neighborhood_overview': '',\n",
    "           'cleaned_overview': query}\n",
    "query_df = pd.DataFrame([new_row])\n",
    "grouped_query_df = pd.concat([grouped_df, query_df], ignore_index=True)\n",
    "\n",
    "# compute TF-IDF for both documents and query\n",
    "tfidf_vectorizer = TfidfVectorizer()\n",
    "tfidf_matrix = tfidf_vectorizer.fit_transform(grouped_query_df['cleaned_overview'])\n",
    "\n",
    "# get the TF-IDF vector for the query\n",
    "query_tfidf = tfidf_matrix[-1] \n",
    "\n",
    "# calculate cosine similarity between query TF-IDF and documents\n",
    "cosine_similarities = cosine_similarity(tfidf_matrix[:-1], query_tfidf.reshape(1, -1))\n",
    "\n",
    "# get the top three most relevant neighborhoods given query terms\n",
    "top_indices = cosine_similarities.flatten().argsort()[-3:][::-1]  \n",
    "grouped_df['neighborhood'].iloc[top_indices]"
   ]
  },
  {
   "cell_type": "markdown",
   "id": "f29fce14",
   "metadata": {},
   "source": [
    "## 2 - Submission\n",
    "\n",
    "Run the codes above, explore TF-IDF results for different neighborhoods and try different query terms. \n",
    "\n",
    "Complete the following part and submit the .ipynb file on Moodle.\n",
    "\n",
    "1. **What are your option of query terms and their top 3 most relevant neighborhoods:**\n",
    "\n",
    "    Query terms:\n",
    "\n",
    "    Top 3 most relevant neighborhoods:\n",
    "\n",
    "2.  **Whether the results make sense to you:**\n",
    "\n",
    "..."
   ]
  }
 ],
 "metadata": {
  "kernelspec": {
   "display_name": "Python 3 (ipykernel)",
   "language": "python",
   "name": "python3"
  },
  "language_info": {
   "codemirror_mode": {
    "name": "ipython",
    "version": 3
   },
   "file_extension": ".py",
   "mimetype": "text/x-python",
   "name": "python",
   "nbconvert_exporter": "python",
   "pygments_lexer": "ipython3",
   "version": "3.12.2"
  }
 },
 "nbformat": 4,
 "nbformat_minor": 5
}