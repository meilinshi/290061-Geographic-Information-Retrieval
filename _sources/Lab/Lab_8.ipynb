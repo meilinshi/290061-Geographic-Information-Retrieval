{
 "cells": [
  {
   "cell_type": "markdown",
   "id": "146295b6-48b3-46ff-83de-5077d45a78ea",
   "metadata": {},
   "source": [
    "# Lab 8 - Geospatial Semantics I\n",
    "\n",
    "Th. 21.11.2024 15:00-17:00"
   ]
  },
  {
   "cell_type": "markdown",
   "id": "98e8c713-9b74-4e36-9f47-1fa285ef3a37",
   "metadata": {},
   "source": [
    "---\n",
    "## 1 GeoNames as a Data Provider\n",
    "\n",
    "In this section, we will first go through GeoNames as a global gazetteer and try to understand its contained data.\n",
    "\n",
    "### 1.1 Description\n",
    "The GeoNames geographical database is available for download free of charge under a creative commons attribution license. It contains over 25 million geographical names and consists of over 12 million unique features whereof 4.8 million populated places and 16 million alternate names.\n",
    "\n",
    "GeoNames is integrating geographical data such as names of places in various languages, elevation, population and others from various sources. All lat/long coordinates are in WGS84 (World Geodetic System 1984). Users may manually edit, correct and add new names using a user friendly wiki interface.\n",
    "\n",
    "![geonames](../figs/lab8_figs/geonames.png)"
   ]
  },
  {
   "cell_type": "markdown",
   "id": "62e2786a-0284-42a7-a048-fc7288101d1f",
   "metadata": {},
   "source": [
    "### 1.2 Feature codes\n",
    "\n",
    "In GeoNames, all features are categorized into several feature classes and further subcategorized into one out of 645 [feature codes](https://www.geonames.org/export/codes.html). \n",
    "\n",
    "<strong>Question 1</strong>: How many <strong>feature classes</strong> does it have? What are they?\n",
    "\n",
    "![geonames_feature_codes](../figs/lab8_figs/geonames_feature_codes.png)"
   ]
  },
  {
   "cell_type": "markdown",
   "id": "17667fb0-7141-438f-b09c-270507374e3d",
   "metadata": {},
   "source": [
    "### 1.3 Statistics\n",
    "Check out ([more statistics ...](https://www.geonames.org/statistics)) here regarding region/country statistics and how many features each region/country has. \n",
    "\n",
    "<strong>Question 2</strong>: Where is Austria? Can you list the associated statistics?\n",
    "![geonames_statistics](../figs/lab8_figs/geonames_statistics.png)"
   ]
  },
  {
   "cell_type": "markdown",
   "id": "60343396-52fe-4dfc-8bf8-cfa30fc8f0da",
   "metadata": {},
   "source": [
    "### 1.4 Data Dump \n",
    "The data in GeoNames is accessible free of charge through a number of [webservices](https://www.geonames.org/export/#ws) and a daily [database export](https://www.geonames.org/export/#dump). See the [readme.txt](https://download.geonames.org/export/dump/readme.txt) about downloadable data stored on the [server](https://download.geonames.org/export/dump/).\n",
    "\n",
    "<strong>Download the AT.zip dataset</strong>, which includes features within Austria.\n",
    "![at](../figs/lab8_figs/at.png)"
   ]
  },
  {
   "cell_type": "markdown",
   "id": "409b4070-b39f-4a52-a95e-0b9ec98bf5d5",
   "metadata": {},
   "source": [
    "---\n",
    "## 2 GeoNames Ontology\n",
    "\n",
    "GeoNames was developed during the [Semantic Web](https://en.wikipedia.org/wiki/Semantic_Web) movement.\n",
    "### 2.1 The Semantic Web\n",
    "The Semantic Web is a project that intends to add computer-processable meaning (semantics) to the World Wide Web.\n",
    "In Feb 2004, [The World Wide Web Consortium (W3C)](https://www.w3.org/) released the [Resource Description Framework (RDF)](https://www.w3.org/RDF/) and the [OWL Web Ontology Language (OWL)](https://www.w3.org/OWL/) as W3C Recommendations. RDF is used to represent information and to exchange knowledge in the Web. OWL is used to publish and share sets of terms called ontologies, supporting advanced Web search, software agents and knowledge management.\n",
    "\n",
    "![w3c](../figs/lab8_figs/w3c.png)"
   ]
  },
  {
   "cell_type": "markdown",
   "id": "044b24ab-7c8e-4d07-b068-93fcca137212",
   "metadata": {},
   "source": [
    "### 2.2 Ontology Expressed in OWL\n",
    "The GeoNames Ontology makes it possible to add geospatial semantic information to the World Wide Web. All over 11 million geonames toponyms now have a unique URL with a corresponding RDF web service. Other services describe the relation between toponyms. The Ontology for GeoNames is available in OWL. \n",
    "\n",
    "You can download from [here](https://www.geonames.org/ontology/ontology_v3.3.rdf). To open it, you can try to use code editors like [Microsoft Visual Studio Code](https://code.visualstudio.com/). \n",
    "\n",
    "<strong>Question 3</strong>: What interesting information do you see from the GeoNames ontology? List a few examples.\n",
    "![geonames_ontology](../figs/lab8_figs/geonames_ontology.png)"
   ]
  },
  {
   "cell_type": "markdown",
   "id": "22c1917b-f15f-4d79-9283-0ee6a835b38f",
   "metadata": {},
   "source": [
    "### 2.3 Mapping GeoNames Ontology with Other Ontologies\n",
    "Check also how the GeoNames Ontology can be mapped to other ontologies, e.g., of other gazetteers. You can download the mapping from [here](https://www.geonames.org/ontology/mappings_v3.01.rdf), and again, open it with the code editor.\n",
    "\n",
    "![geonames_ontology_mapping](../figs/lab8_figs/geonames_ontology_mapping.png)\n",
    "\n",
    "P.S.: One of such gazetteers is [DBpedia](https://www.dbpedia.org/)."
   ]
  },
  {
   "attachments": {},
   "cell_type": "markdown",
   "id": "7bc36fc0-d378-4d33-aa5c-5e8e6bac33b3",
   "metadata": {},
   "source": [
    "---\n",
    "## 3 Working with GeoNames Data - Austria\n",
    "In this section, we are going to use the data downloaded before and learn how to read and browse it.\n",
    "\n",
    "### 3.1 Read Downloaded Data\n",
    "\n",
    "This time we need to read a .txt file with Pandas to create a DataFrame. However, the file does not come with a header. How do we know what each column stands for?\n",
    "\n",
    "Quick answer(!): Check the <strong>readme.txt</strong> in the downloaded .zip file, so that you can know how to define the <strong>field names</strong> in <strong>AT.txt</strong>.\n",
    "\n",
    "![readme](../figs/lab8_figs/readme.png)"
   ]
  },
  {
   "cell_type": "code",
   "execution_count": null,
   "id": "4883f8c5-4df2-4c62-ad34-2853f197dc91",
   "metadata": {},
   "outputs": [],
   "source": [
    "import pandas as pd"
   ]
  },
  {
   "cell_type": "code",
   "execution_count": null,
   "id": "dbf8e49b-187d-4336-aed1-07a922f95f63",
   "metadata": {},
   "outputs": [],
   "source": [
    "df_at = pd.read_csv('AT/AT.txt', sep='\\t', names=[\"geonameid\", \"name\", \"asciiname\", \"alternatenames\",\n",
    "                                                \"latitude\",\"longitude\",\"feature class\",\"feature code\",\n",
    "                                                \"country code\",\"cc2\",\"admin1 code\",\"admin2 code\",\n",
    "                                                \"admin3 code\",\"admin4 code\",\"population\",\n",
    "                                                \"elevation\",\"dem\",\"timezone\",\"modification date\"])"
   ]
  },
  {
   "cell_type": "code",
   "execution_count": null,
   "id": "f2e2afa7-baa7-40de-9bd7-37bc32caf9a2",
   "metadata": {},
   "outputs": [],
   "source": [
    "df_at.head()"
   ]
  },
  {
   "cell_type": "markdown",
   "id": "df2a7103-f991-4439-b3d9-dc6849e33aa0",
   "metadata": {},
   "source": [
    "Find out what is the geonameid for <strong>Wien</strong>."
   ]
  },
  {
   "cell_type": "code",
   "execution_count": null,
   "id": "678a9db8-9762-4525-b65f-0d89f3f6688d",
   "metadata": {},
   "outputs": [],
   "source": [
    "df_at[df_at['name'] == 'Wien']"
   ]
  },
  {
   "cell_type": "markdown",
   "id": "fb1ca7d8-a9ef-4a19-adb8-063ba300af94",
   "metadata": {},
   "source": [
    "## 3.2 Browse a GeoNames Feature with FollowYourNose Search\n",
    "Next, we are going to use the retrieved geonameid to browse information about Wien.\n",
    "\n",
    "Note that GeoNames is using [303 redirection](https://www.geonames.org/ontology/documentation.html#:~:text=GeoNames%20is%20using,for%20more%20information.) to distinguish the <strong>Concept</strong> (thing as is) from the <strong>Document</strong> about it.\n",
    "\n",
    "For Wien we actually have these two URIs pointing to both it as a Concept and a Document about it:\n",
    "- [1] https://sws.geonames.org/2761367/\n",
    "- [2] https://sws.geonames.org/2761367/about.rdf\n",
    "\n",
    "The GeoNames redirects requests for [1] to [2]. The latter one that contains <strong>RDF descriptions</strong> about a feature is what we will use next for <strong>[FollowYourNose](https://www.w3.org/wiki/FollowYourNose)</strong> search."
   ]
  },
  {
   "cell_type": "markdown",
   "id": "dc2e94cb-48b5-4be2-808b-2ef8fb54fd15",
   "metadata": {},
   "source": [
    "### 3.2.1 RDFLib\n",
    "To access and parse RDF, we need a Python package called [RDFLib](https://rdflib.readthedocs.io/en/stable/) to work with. Install the libary with the following command.\n",
    "```\n",
    "pip install rdflib\n",
    "```\n",
    "![rdflib](../figs/lab8_figs/rdflib.png)"
   ]
  },
  {
   "cell_type": "markdown",
   "id": "21e19174-d4dc-4ecc-9330-f4ccbdc89f8c",
   "metadata": {},
   "source": [
    "The data are in the form of <strong>triples</strong>, and we need a <strong>Graph</strong> to load and store them. A triple has the form of <strong><subject, predicate, object></strong>.\n",
    "![triples](../figs/lab8_figs/triples.jpg)"
   ]
  },
  {
   "cell_type": "code",
   "execution_count": null,
   "id": "359ebf82-70d7-40bd-95c2-246e556194a9",
   "metadata": {},
   "outputs": [],
   "source": [
    "from rdflib import Graph\n",
    "# Create a Wien Graph\n",
    "g = Graph()"
   ]
  },
  {
   "cell_type": "markdown",
   "id": "a3e4672e-153c-4da4-bf98-bab07c9495c1",
   "metadata": {},
   "source": [
    "Parse the Document about Wien."
   ]
  },
  {
   "cell_type": "code",
   "execution_count": null,
   "id": "eab8e8ea-29bd-4f1f-b971-c68e98a535cd",
   "metadata": {},
   "outputs": [],
   "source": [
    "g.parse(\"http://www.geonames.org/2761367/about.rdf\")"
   ]
  },
  {
   "cell_type": "markdown",
   "id": "465aea8a-4c42-4e74-a56d-c73d4bfcd97b",
   "metadata": {},
   "source": [
    "Loop through each triple in the Wien Graph, and check if there is at least one triple."
   ]
  },
  {
   "cell_type": "code",
   "execution_count": null,
   "id": "c0311701-4a01-4ff0-afe6-8f45edf7caec",
   "metadata": {},
   "outputs": [],
   "source": [
    "for subj, pred, obj in g:\n",
    "    if (subj, pred, obj) not in g:\n",
    "       raise Exception(\"It better be!\")"
   ]
  },
  {
   "cell_type": "markdown",
   "id": "d8feab74-1dc1-46bc-bae6-6f25cf136e2e",
   "metadata": {},
   "source": [
    "<strong>Question 4</strong>: How many triples are there in the Wien Graph?"
   ]
  },
  {
   "cell_type": "code",
   "execution_count": null,
   "id": "9986538e-b10c-439a-b350-e485c0b03123",
   "metadata": {},
   "outputs": [],
   "source": [
    "print(f\"The Wien Graph has {len(g)} triples.\")"
   ]
  },
  {
   "cell_type": "markdown",
   "id": "68f8e5b7-ae07-4632-84af-bddbd61e0e0e",
   "metadata": {},
   "source": [
    "Print out the entire Wien Graph in the RDF <strong>[Turtle](https://en.wikipedia.org/wiki/Turtle_(syntax))</strong> format."
   ]
  },
  {
   "cell_type": "code",
   "execution_count": null,
   "id": "e490a44a-0514-4883-a9f4-45286c304a39",
   "metadata": {},
   "outputs": [],
   "source": [
    "print(g.serialize(format=\"turtle\"))"
   ]
  },
  {
   "cell_type": "markdown",
   "id": "17e51428-3364-49c3-8bc0-6dead6e23017",
   "metadata": {},
   "source": [
    "### 3.2.2 Keep Searching?\n",
    "Can we keep searching for <strong>linked entities</strong> to Wien? Try the following code."
   ]
  },
  {
   "cell_type": "code",
   "execution_count": null,
   "id": "98398d8a-4afd-4cec-92bb-3a960ca7bf34",
   "metadata": {},
   "outputs": [],
   "source": [
    "from rdflib import URIRef\n",
    "\n",
    "wien = URIRef(\"https://sws.geonames.org/2761367/\")\n",
    "\n",
    "predicate_chosen = URIRef(\"http://www.geonames.org/ontology#childrenFeatures\")\n",
    "\n",
    "for s, p, o in g.triples((wien, predicate_chosen, None)):\n",
    "    print(s, p, o)"
   ]
  },
  {
   "cell_type": "code",
   "execution_count": null,
   "id": "e44851eb-0bba-4631-adc6-75dddc75f83d",
   "metadata": {},
   "outputs": [],
   "source": [
    "g.parse(o)\n",
    "\n",
    "print(g.serialize(format=\"turtle\"))"
   ]
  },
  {
   "cell_type": "markdown",
   "id": "9b525685-99bd-42e3-9def-2daabaa1043d",
   "metadata": {},
   "source": [
    "<strong>Question 5</strong>:  What is this url - https://sws.geonames.org/2761333/ - pointing? What is its difference compared with <strong>Wien</strong>?"
   ]
  },
  {
   "cell_type": "markdown",
   "id": "6fc2aaf1-f68a-445e-bb7c-40257ad023ce",
   "metadata": {},
   "source": [
    "---\n",
    "## Submission\n",
    "Run the codes above and submit the .ipynb file along with answers to Question 1 to 5."
   ]
  },
  {
   "cell_type": "code",
   "execution_count": null,
   "id": "2884c872-8766-4808-a93c-20644ebe2218",
   "metadata": {},
   "outputs": [],
   "source": []
  }
 ],
 "metadata": {
  "kernelspec": {
   "display_name": "Python 3 (ipykernel)",
   "language": "python",
   "name": "python3"
  },
  "language_info": {
   "codemirror_mode": {
    "name": "ipython",
    "version": 3
   },
   "file_extension": ".py",
   "mimetype": "text/x-python",
   "name": "python",
   "nbconvert_exporter": "python",
   "pygments_lexer": "ipython3",
   "version": "3.12.0"
  }
 },
 "nbformat": 4,
 "nbformat_minor": 5
}
