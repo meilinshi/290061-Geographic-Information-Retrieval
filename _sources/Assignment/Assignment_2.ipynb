{
 "cells": [
  {
   "cell_type": "markdown",
   "id": "56d9cfab",
   "metadata": {},
   "source": [
    "# Assignment 2\n",
    "**Due date: 23:59 06/11/24**\n",
    "\n",
    "***"
   ]
  },
  {
   "cell_type": "markdown",
   "id": "7881047b",
   "metadata": {},
   "source": [
    "## Part 1 - Georeferencing (60 pts)\n",
    "For the first part of the assignment, you will perform geoparsing and geocoding tasks on [Seattle Airbnb Open Data](https://www.kaggle.com/datasets/airbnb/seattle). You will be working on the **reviews** dataset, including unique id for each reviewer and detailed comments. The .csv file you downloaded from moodle is already pre-processed (English reviews of the top 5 most reviewed listings)."
   ]
  },
  {
   "cell_type": "markdown",
   "id": "1acfe3b5",
   "metadata": {},
   "source": [
    "### 1. Read in `reviews_selected_en.csv` as a pandas dataframe (5 pts)"
   ]
  },
  {
   "cell_type": "code",
   "execution_count": null,
   "id": "5f129835",
   "metadata": {},
   "outputs": [],
   "source": [
    "import pandas as pd"
   ]
  },
  {
   "cell_type": "markdown",
   "id": "81326aa4",
   "metadata": {},
   "source": [
    "### 2. Load the spaCy English trained pipeline (5 pts)"
   ]
  },
  {
   "cell_type": "code",
   "execution_count": null,
   "id": "0ea54667",
   "metadata": {},
   "outputs": [],
   "source": [
    "import spacy"
   ]
  },
  {
   "cell_type": "markdown",
   "id": "adf4ed2b",
   "metadata": {},
   "source": [
    "### 3. Extract geo entities from the `comments` column and save the results to a new column `geo_entities` (20 pts)\n",
    "Consider spaCy categories `LOC, ORG, and GPE` as geo_entities here <br>\n",
    "*Hint: to avoid duplicates, you can use [set](https://docs.python.org/3/tutorial/datastructures.html#:~:text=Python%20also%20includes%20a%20data,%2C%20difference%2C%20and%20symmetric%20difference.) instead of list to store identified geo_entities*"
   ]
  },
  {
   "cell_type": "code",
   "execution_count": null,
   "id": "cc78db70",
   "metadata": {},
   "outputs": [],
   "source": [
    "def extract_geo_entities(text):\n",
    "    \n",
    "    return ...\n",
    "\n",
    "df['geo_entities'] = df['comments'].apply(extract_geo_entities)"
   ]
  },
  {
   "cell_type": "markdown",
   "id": "82228476",
   "metadata": {},
   "source": [
    "### 4. Explore the identified geo_entites and pick **5** places of interest in Seattle (5 pts)"
   ]
  },
  {
   "cell_type": "code",
   "execution_count": null,
   "id": "fdd5a860",
   "metadata": {},
   "outputs": [],
   "source": [
    "five_poi = []"
   ]
  },
  {
   "cell_type": "markdown",
   "id": "86518f1f",
   "metadata": {},
   "source": [
    "### 5. Geocode the 5 selected places and plot them on map (25 pts)"
   ]
  },
  {
   "cell_type": "code",
   "execution_count": null,
   "id": "cc9f9393",
   "metadata": {},
   "outputs": [],
   "source": [
    "from geopy.geocoders import ...\n",
    "import folium\n"
   ]
  },
  {
   "cell_type": "markdown",
   "id": "28a0daa1",
   "metadata": {},
   "source": [
    "## Part 2 - Reading (40 pts)\n",
    "For the second part of the assignment, you will read this paper on [How Do People Describe Locations During a Natural Disaster: An Analysis of Tweets from\n",
    "Hurricane Harvey](https://drops.dagstuhl.de/storage/00lipics/lipics-vol177-giscience2021/LIPIcs.GIScience.2021.I.6/LIPIcs.GIScience.2021.I.6.pdf). \n",
    "\n",
    "1. Please write a brief summary (no more than 250 words) on why geoparsing is needed for the study, and list similar previous works mentioned in the paper. (20 pts)  \n",
    "  \n",
    "<br />\n",
    "\n",
    "2. What are challenges needed to be addressed in order to develop a toponym resolution model for disaster-related tweets? (20 pts)\n",
    "\n",
    "<br />\n"
   ]
  },
  {
   "cell_type": "markdown",
   "id": "1d56dfdb",
   "metadata": {},
   "source": [
    "## Submission\n",
    "The assignment includes two parts. Please just submit as one Jupyter Notebook file."
   ]
  }
 ],
 "metadata": {
  "kernelspec": {
   "display_name": "Python 3 (ipykernel)",
   "language": "python",
   "name": "python3"
  },
  "language_info": {
   "codemirror_mode": {
    "name": "ipython",
    "version": 3
   },
   "file_extension": ".py",
   "mimetype": "text/x-python",
   "name": "python",
   "nbconvert_exporter": "python",
   "pygments_lexer": "ipython3",
   "version": "3.11.4"
  }
 },
 "nbformat": 4,
 "nbformat_minor": 5
}
