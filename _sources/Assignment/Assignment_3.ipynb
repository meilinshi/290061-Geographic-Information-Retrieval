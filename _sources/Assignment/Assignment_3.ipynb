{
 "cells": [
  {
   "cell_type": "markdown",
   "id": "6b2f00e2",
   "metadata": {},
   "source": [
    "# Assignment 3\n",
    "**Due date: 23:59 20/11/24**\n",
    "\n",
    "***"
   ]
  },
  {
   "cell_type": "markdown",
   "id": "0db26125",
   "metadata": {},
   "source": [
    "## Part 1 - Little Project on Seattle Airbnb Listings (50 pts)\n",
    "For the first part of the assignment, you will continue with several analysis tasks using the [Seattle Airbnb Open Data](https://www.kaggle.com/datasets/airbnb/seattle). You will be working on the **listings** dataset, including full descriptions for each airbnb listing and average review scores. "
   ]
  },
  {
   "cell_type": "markdown",
   "id": "b99b118a",
   "metadata": {},
   "source": [
    "### 1. Data Preprocessing (10 pts)\n",
    "- Read in the `lisitngs.csv` as a pandas DataFrame.\n",
    "- Keep only the `id`, `latitude`, `longitude`, `amenities`, and `price` columns. \n",
    "- Remove all rows containing missing values.\n",
    "- Replace the `$` and `,` in the `price` column with empty string and convert the column into numerical format. *Hint: using .astype(float)*\n",
    "- Sort DataFrame based on price from highest to lowest."
   ]
  },
  {
   "cell_type": "code",
   "execution_count": null,
   "id": "d08eabd1",
   "metadata": {},
   "outputs": [],
   "source": [
    "..."
   ]
  },
  {
   "cell_type": "markdown",
   "id": "318b7aed",
   "metadata": {},
   "source": [
    "### 2. Data Exploration (20 pts)\n",
    "\n",
    "#### 2.1. Grouping (5 pts)\n",
    "- Create a new column `category` by slicing the `price` column to 5 quantiles (A, B, C, D, E), which corresponding to the top 20%, 20-40%, 40-60%, 60-80% and 80-100%, with Category A being the most expensive and E the cheapest.\n",
    "\n",
    "*Hint: using the qcut() function, examples in [here](https://www.geeksforgeeks.org/how-to-use-pandas-cut-and-qcut/).*"
   ]
  },
  {
   "cell_type": "code",
   "execution_count": null,
   "id": "c522515d",
   "metadata": {},
   "outputs": [],
   "source": [
    "..."
   ]
  },
  {
   "cell_type": "markdown",
   "id": "4d321c7f",
   "metadata": {},
   "source": [
    "#### 2.2. Data Visualization (10 pts)\n",
    "- Create a map displaying the locations of the listings in Category A and Category E with different colors.\n",
    "- Identify a location where listings in Category A clustered on map."
   ]
  },
  {
   "cell_type": "code",
   "execution_count": null,
   "id": "c418cfce",
   "metadata": {},
   "outputs": [],
   "source": [
    "..."
   ]
  },
  {
   "cell_type": "markdown",
   "id": "64e5b345",
   "metadata": {},
   "source": [
    "#### 2.3. Aggregation (5 pts)\n",
    "- Aggregate values in `amenities` by the `category` created.\n",
    "\n",
    "*Hint: the shape of your aggregated DataFrame should be 5 x 2.*"
   ]
  },
  {
   "cell_type": "code",
   "execution_count": null,
   "id": "9ec18c53",
   "metadata": {},
   "outputs": [],
   "source": [
    "..."
   ]
  },
  {
   "cell_type": "markdown",
   "id": "bfbbabd0",
   "metadata": {},
   "source": [
    "### 3. Compute TF-IDF based on the categories (20 pts)\n",
    "- Compute TF-IDF on the cleaned `amenities` column (excluding stop words).\n",
    "- Display top 20 words for listings in Category A.\n",
    "- Display top 20 words for listings in Category E.\n",
    "- Provide a one-sentence observation from the results."
   ]
  },
  {
   "cell_type": "code",
   "execution_count": null,
   "id": "3217c467",
   "metadata": {},
   "outputs": [],
   "source": [
    "..."
   ]
  },
  {
   "cell_type": "markdown",
   "id": "1b2e51ff",
   "metadata": {},
   "source": [
    "## Part 2 - Reading (50 pts)\n",
    "For the second part of the assignment, you will read this paper on [An Empirical Study on the Names of Points of Interest and Their Changes with Geographic Distance](https://drops.dagstuhl.de/storage/00lipics/lipics-vol114-giscience2018/LIPIcs.GISCIENCE.2018.5/LIPIcs.GISCIENCE.2018.5.pdf).\n",
    "\n",
    "1. Please describe how TF-IDF is adapted to the geographic context in this paper. Explain the meaning of different variables in Equation 2. (10 pts)\n",
    "\n",
    "- \n",
    "- \n",
    "\n",
    "\n",
    "2. You might have noticed that whether in Lab 7 and this paper, there are both attempts to develop a spatial/geographic version of TF-IDF. However, there are differences in (1) what textual clues are used in the computation, and (2) what kind of geographic regions are the subject of the study. Explain these differences. (20 pts)\n",
    "\n",
    "- \n",
    "- \n",
    "\n",
    "\n",
    "3. Write a short summary (no more than 250 words) on why the authors think place names have significant meanings. (20 pts)\n",
    "\n",
    "- \n"
   ]
  },
  {
   "cell_type": "markdown",
   "id": "90b19506",
   "metadata": {},
   "source": [
    "## Submission\n",
    "The assignment includes two parts. Please just submit as one Jupyter Notebook file."
   ]
  }
 ],
 "metadata": {
  "kernelspec": {
   "display_name": "Python 3 (ipykernel)",
   "language": "python",
   "name": "python3"
  },
  "language_info": {
   "codemirror_mode": {
    "name": "ipython",
    "version": 3
   },
   "file_extension": ".py",
   "mimetype": "text/x-python",
   "name": "python",
   "nbconvert_exporter": "python",
   "pygments_lexer": "ipython3",
   "version": "3.12.2"
  }
 },
 "nbformat": 4,
 "nbformat_minor": 5
}
